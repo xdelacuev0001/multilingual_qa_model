{
 "cells": [
  {
   "cell_type": "markdown",
   "metadata": {
    "id": "HF8JX1Pusb_t"
   },
   "source": [
    "# Milestone 5: Final Model + Deliverables\n",
    "\n",
    "**Group 96**: Michelle Chang, Charlotte Cheah, Xenia Dela Cueva, Anay Patel, Miranda Shen\n",
    "\n",
    "**Date**: May 9, 2025\n",
    "\n",
    "---\n"
   ]
  },
  {
   "cell_type": "markdown",
   "metadata": {
    "id": "FSomPhfH8gJq"
   },
   "source": [
    "# Table of Contents\n",
    "- <a href=\"#intro\">1. Introduction</a>\n",
    "- <a href=\"#preprocessing\">2. Preprocessing</a>\n",
    "- <a href=\"#eda\">3. EDA</a>\n",
    "- <a href=\"#baseline\">4. Baseline Model</a>\n",
    "- <a href=\"#results\">5. Baseline Model Results Analysis</a>\n",
    "- <a href=\"#pipeline\">6. Final Pipeline Setup</a>\n",
    "- <a href=\"#qa\">7. QA Final Model</a>\n",
    "- <a href=\"#mcq\">8. MCQ Final Model</a>\n",
    "- <a href=\"#conclusion\">9. Conclusion</a>"
   ]
  },
  {
   "cell_type": "markdown",
   "metadata": {
    "id": "wHcC1NlLz8Pd"
   },
   "source": [
    "*Note: some imports can be found throughout the notebook due to challenges with dependencies and long runtimes. Some libraries required different versions of libraries, and later imports resolved this.*"
   ]
  },
  {
   "cell_type": "markdown",
   "metadata": {
    "id": "bVBE1KVJ8-6d"
   },
   "source": [
    "<a id=\"intro\"></a>\n",
    "# 1. Introduction"
   ]
  },
  {
   "cell_type": "markdown",
   "metadata": {
    "id": "hM3Xo8N09I9Z"
   },
   "source": [
    "In this project, we are working with the [Pira bilingual English-Portuguese dataset](https://github.com/C4AI/Pira) which is derived from a crowd-sourced project. This dataset contains Question-Answer (QA) pairs and multiple choice questions-answer (MCQA) derived from texts about the ocean, the Brazilian coastline and climate change. The aim of our project is to develop a multilingual language model that can answer questions in this topic area in both English and Portuguese, with comparable model performance on both languages. In order to ensure comparable model performance in both languages, we will leverage model fine-tuning and back-translation techniques to improve multilingual performance.\n",
    "\n",
    "From our EDA, we found that there are a few predominant categories of questions in terms of question types (“where”, “what”, etc.) and question difficulty. Our goal is to achieve a model that generalizes well across different types of questions and is robust and versatile to new questions. We also note that there are several words that appear a lot more frequently due to the context of the dataset - these words largely relate to environmental and coastal science in and around Brazil. This is important to keep in mind during analysis as it might lead to overfitting to specific language from the training data or limitations in the model’s ability to generalize. Our decision to use back-translation was in response to this, with the aim of not only strengthening multilingual capabilities but also to diversify phrasing and reduce reliance on specific terminology used in the dataset."
   ]
  },
  {
   "cell_type": "code",
   "execution_count": null,
   "metadata": {
    "colab": {
     "base_uri": "https://localhost:8080/"
    },
    "executionInfo": {
     "elapsed": 39944,
     "status": "ok",
     "timestamp": 1746831917738,
     "user": {
      "displayName": "Michelle Chang",
      "userId": "15512863513129096251"
     },
     "user_tz": 240
    },
    "id": "J6cBOEU7JBvs",
    "outputId": "94b06ee8-4ddb-4bef-cdf6-dffa625ea072"
   },
   "outputs": [],
   "source": [
    "!pip install datasets\n",
    "!pip install unidecode\n",
    "!pip install deepl\n",
    "!pip install evaluate rouge_score\n",
    "!pip install transformers\n",
    "#!pip install gensim"
   ]
  },
  {
   "cell_type": "code",
   "execution_count": null,
   "metadata": {
    "colab": {
     "base_uri": "https://localhost:8080/"
    },
    "executionInfo": {
     "elapsed": 14811,
     "status": "ok",
     "timestamp": 1746831932568,
     "user": {
      "displayName": "Michelle Chang",
      "userId": "15512863513129096251"
     },
     "user_tz": 240
    },
    "id": "pVE4cmHEB3bY",
    "outputId": "7fa0325d-b80a-490f-e809-693fba8de360"
   },
   "outputs": [],
   "source": [
    "!pip uninstall -y numpy\n",
    "!pip install --no-cache-dir --force-reinstall numpy"
   ]
  },
  {
   "cell_type": "code",
   "execution_count": null,
   "metadata": {
    "colab": {
     "base_uri": "https://localhost:8080/",
     "height": 1000
    },
    "executionInfo": {
     "elapsed": 32819,
     "status": "ok",
     "timestamp": 1746831965388,
     "user": {
      "displayName": "Michelle Chang",
      "userId": "15512863513129096251"
     },
     "user_tz": 240
    },
    "id": "x1YWMei-CCPd",
    "outputId": "273f520c-9e34-403e-c85f-7ef1091bdb99"
   },
   "outputs": [],
   "source": [
    "!pip install --no-cache-dir --force-reinstall pandas"
   ]
  },
  {
   "cell_type": "code",
   "execution_count": null,
   "metadata": {
    "id": "YvbBYn6kO_Ul"
   },
   "outputs": [],
   "source": [
    "import os\n",
    "import re\n",
    "import ast\n",
    "import string\n",
    "import numpy as np\n",
    "import pandas as pd\n",
    "from collections import Counter\n",
    "from random import sample\n",
    "import matplotlib.pyplot as plt\n",
    "import seaborn as sns\n",
    "from wordcloud import WordCloud, STOPWORDS\n",
    "import nltk\n",
    "from nltk.corpus import stopwords\n",
    "from unidecode import unidecode\n",
    "import ast\n",
    "import random\n",
    "\n",
    "from transformers import (\n",
    "    MarianMTModel, MarianTokenizer,\n",
    "    T5Tokenizer, T5ForConditionalGeneration,\n",
    "    Trainer, TrainingArguments,\n",
    "    AutoTokenizer,\n",
    "    pipeline\n",
    ")\n",
    "\n",
    "import torch\n",
    "import torch.nn as nn\n",
    "import torch.nn.functional as F\n",
    "from torch.utils.data import Dataset, DataLoader, TensorDataset\n",
    "from sklearn.feature_extraction.text import TfidfVectorizer\n",
    "from sklearn.decomposition import PCA\n",
    "from sklearn.cluster import KMeans\n",
    "from sklearn.neighbors import NearestNeighbors\n",
    "from sklearn.metrics import (\n",
    "    accuracy_score, f1_score,\n",
    "    confusion_matrix, ConfusionMatrixDisplay\n",
    ")\n",
    "\n",
    "# from gensim.models import KeyedVectors\n",
    "# from datasets import Dataset, DatasetDict\n",
    "# import evaluate\n",
    "# import gc\n",
    "# import psutil\n",
    "# import deepl"
   ]
  },
  {
   "cell_type": "markdown",
   "metadata": {
    "id": "yrx3Qdqf1ef2"
   },
   "source": [
    "Our code relies heavily on several core Python libraries including numpy and pandas, as well as well-known natural language libraries such as nltk and transformers. We also have libraries such as sklearn for evaluations, as well as seaborn, wordcloud and matplotlib for visualisations. Other packages were imported for specific needs but were not used as heavily."
   ]
  },
  {
   "cell_type": "code",
   "execution_count": null,
   "metadata": {
    "colab": {
     "base_uri": "https://localhost:8080/"
    },
    "executionInfo": {
     "elapsed": 3319,
     "status": "ok",
     "timestamp": 1746832020879,
     "user": {
      "displayName": "Michelle Chang",
      "userId": "15512863513129096251"
     },
     "user_tz": 240
    },
    "id": "L-Sa8tlhsHTr",
    "outputId": "299bec0d-dc31-474f-e439-5f110996d7bb"
   },
   "outputs": [],
   "source": [
    "!git clone https://github.com/C4AI/Pira.git"
   ]
  },
  {
   "cell_type": "code",
   "execution_count": null,
   "metadata": {
    "id": "CQ1rnk_0O35U"
   },
   "outputs": [],
   "source": [
    "# Load QA datasets\n",
    "qa_train = pd.read_csv('Pira/Data/train.csv')\n",
    "qa_val = pd.read_csv('Pira/Data/validation.csv')\n",
    "qa_test = pd.read_csv('Pira/Data/test.csv')\n",
    "\n",
    "# Load MCQA datasets\n",
    "mcqa_train = pd.read_csv('Pira/MCQA/MCQA-train.csv')\n",
    "mcqa_val = pd.read_csv('Pira/MCQA/MCQA-validation.csv')\n",
    "mcqa_test = pd.read_csv('Pira/MCQA/MCQA-test.csv')"
   ]
  },
  {
   "cell_type": "markdown",
   "metadata": {
    "id": "J5YukcfbgG48"
   },
   "source": [
    "<a id=\"preprocessing\"></a>\n",
    "# 2. Preprocessing"
   ]
  },
  {
   "cell_type": "code",
   "execution_count": null,
   "metadata": {
    "colab": {
     "base_uri": "https://localhost:8080/"
    },
    "executionInfo": {
     "elapsed": 242,
     "status": "ok",
     "timestamp": 1746832027464,
     "user": {
      "displayName": "Michelle Chang",
      "userId": "15512863513129096251"
     },
     "user_tz": 240
    },
    "id": "3Mui9J72J_Ph",
    "outputId": "6d0cebb7-c165-403c-a183-e91b4828b16c"
   },
   "outputs": [],
   "source": [
    "def drop_unnecessary_columns(df, columns_to_drop=['Unnamed: 0', 'eid_article_scopus']):\n",
    "    \"\"\"Remove specified columns from the dataframe.\"\"\"\n",
    "    return df.drop(columns=columns_to_drop)\n",
    "\n",
    "def filter_missing_critical_fields(df, critical_fields):\n",
    "    \"\"\"Filter out rows with missing critical fields.\"\"\"\n",
    "    return df.dropna(subset=critical_fields)\n",
    "\n",
    "def fill_missing_paraphrased_questions(df):\n",
    "    \"\"\"Fill NaNs in paraphrased questions with original versions.\"\"\"\n",
    "    df['question_en_paraphase'] = df['question_en_paraphase'].fillna(df['question_en_origin'])\n",
    "    df['question_pt_paraphase'] = df['question_pt_paraphase'].fillna(df['question_pt_origin'])\n",
    "    return df\n",
    "\n",
    "def lowercase_text_columns(df, text_columns):\n",
    "    \"\"\"Convert all text columns to lowercase.\"\"\"\n",
    "    for col in text_columns:\n",
    "        df[col] = df[col].str.lower()\n",
    "    return df\n",
    "\n",
    "def normalize_label_columns(df):\n",
    "    \"\"\"Convert label columns to integer type.\"\"\"\n",
    "    df['answer_in_text'] = df['answer_in_text'].astype(int)\n",
    "    df['question_generic'] = df['question_generic'].astype(int)\n",
    "    return df\n",
    "\n",
    "def create_language_specific_datasets(df):\n",
    "    \"\"\"Create separate dataframes for English and Portuguese data.\"\"\"\n",
    "    df_en = df[['abstract', 'question_en_paraphase', 'answer_en_origin', 'answer_in_text']]\n",
    "    df_pt = df[['abstract_translated_pt', 'question_pt_paraphase', 'answer_pt_origin', 'answer_in_text']]\n",
    "\n",
    "    df_en.columns = ['context', 'question', 'answer', 'label']\n",
    "    df_pt.columns = ['context', 'question', 'answer', 'label']\n",
    "\n",
    "    return df_en, df_pt\n",
    "\n",
    "def save_processed_mcqa_datasets(df_en, df_pt, en_filename, pt_filename):\n",
    "    \"\"\"Save English and Portuguese processed dataframes to CSV files in the current directory.\"\"\"\n",
    "    df_en.to_csv(en_filename, index=False)\n",
    "    df_pt.to_csv(pt_filename, index=False)\n",
    "    print(f\"Saved: {en_filename}\")\n",
    "    print(f\"Saved: {pt_filename}\")\n",
    "\n",
    "def preprocess_data():\n",
    "    \"\"\"Main function to orchestrate the entire preprocessing workflow.\"\"\"\n",
    "    # Define critical fields and text columns\n",
    "    critical_fields = [\n",
    "        'question_en_origin', 'question_pt_origin',\n",
    "        'answer_en_origin', 'answer_pt_origin',\n",
    "        'abstract', 'abstract_translated_pt',\n",
    "        'answer_in_text', 'question_generic'\n",
    "    ]\n",
    "\n",
    "    text_cols = [\n",
    "        'question_en_origin', 'question_pt_origin',\n",
    "        'question_en_paraphase', 'question_pt_paraphase',\n",
    "        'answer_en_origin', 'answer_pt_origin',\n",
    "        'abstract', 'abstract_translated_pt',\n",
    "        'pt_question_translated_to_en'\n",
    "    ]\n",
    "\n",
    "    # Process all datasets\n",
    "    datasets = {'train': qa_train, 'val': qa_val, 'test': qa_test}\n",
    "    processed_datasets = {}\n",
    "\n",
    "    for name, df in datasets.items():\n",
    "        # Apply preprocessing steps\n",
    "        df = drop_unnecessary_columns(df)\n",
    "        df = filter_missing_critical_fields(df, critical_fields)\n",
    "        df = fill_missing_paraphrased_questions(df)\n",
    "        df = lowercase_text_columns(df, text_cols)\n",
    "        df = normalize_label_columns(df)\n",
    "\n",
    "        # Create language-specific datasets\n",
    "        df_en, df_pt = create_language_specific_datasets(df)\n",
    "\n",
    "        # Save processed datasets\n",
    "        save_processed_mcqa_datasets(\n",
    "            df_en, df_pt,\n",
    "            en_filename=f'processed_qa_{name}_en.csv',\n",
    "            pt_filename=f'processed_qa_{name}_pt.csv'\n",
    "        )\n",
    "\n",
    "        processed_datasets[f'{name}_en'] = df_en\n",
    "        processed_datasets[f'{name}_pt'] = df_pt\n",
    "\n",
    "    return processed_datasets\n",
    "\n",
    "if __name__ == \"__main__\":\n",
    "    import os\n",
    "\n",
    "    files_to_check = [\n",
    "        \"processed_qa_train_en.csv\",\n",
    "        \"processed_qa_train_pt.csv\",\n",
    "        \"processed_qa_val_en.csv\",\n",
    "        \"processed_qa_val_pt.csv\",\n",
    "        \"processed_qa_test_en.csv\",\n",
    "        \"processed_qa_test_pt.csv\"\n",
    "    ]\n",
    "\n",
    "    if all(os.path.exists(file) for file in files_to_check):\n",
    "        print(\"All processed QA files already exist. Skipping preprocessing.\")\n",
    "    else:\n",
    "        preprocess_data()"
   ]
  },
  {
   "cell_type": "markdown",
   "metadata": {
    "id": "wlw0NUHaPa3q"
   },
   "source": [
    "This code preprocesses the MCQA data. This code was used to generate translated files, but is commented out as we ran out of DeepL API calls. The files resulting from this have been manually loaded."
   ]
  },
  {
   "cell_type": "code",
   "execution_count": null,
   "metadata": {
    "id": "1lNpPGEeKIpO"
   },
   "outputs": [],
   "source": [
    "# def clean_and_standardize_mcqa_data(df):\n",
    "#     \"\"\"Clean and standardize MCQA dataset structure.\"\"\"\n",
    "#     # Drop unnamed column if it exists\n",
    "#     if 'Unnamed: 0' in df.columns:\n",
    "#         df = df.drop(columns=['Unnamed: 0'])\n",
    "\n",
    "#     # Ensure required columns exist\n",
    "#     required_columns = ['id', 'text', 'question', 'A', 'B', 'C', 'D', 'E', 'correct', 'alternative']\n",
    "#     missing_columns = [col for col in required_columns if col not in df.columns]\n",
    "#     if missing_columns:\n",
    "#         print(f\"Warning: Missing columns: {missing_columns}\")\n",
    "\n",
    "#     # Filter out rows with missing critical fields\n",
    "#     critical_fields = ['text', 'question', 'A', 'B', 'C', 'D', 'correct', 'alternative']\n",
    "#     available_critical = [col for col in critical_fields if col in df.columns]\n",
    "#     df = df.dropna(subset=available_critical)\n",
    "\n",
    "#     # Lowercase text fields\n",
    "#     text_columns = ['text', 'question', 'A', 'B', 'C', 'D', 'E', 'alternative']\n",
    "#     for col in text_columns:\n",
    "#         if col in df.columns:\n",
    "#             df[col] = df[col].astype(str).str.lower()\n",
    "\n",
    "#     return df\n",
    "\n",
    "# def create_processed_mcqa_format(df):\n",
    "#     \"\"\"Create a standardized format for the MCQA task.\"\"\"\n",
    "#     # Create a new dataframe with standardized format\n",
    "#     processed_df = pd.DataFrame()\n",
    "#     processed_df['id'] = df['id'] if 'id' in df.columns else range(len(df))\n",
    "#     processed_df['context'] = df['text']\n",
    "#     processed_df['question'] = df['question']\n",
    "\n",
    "#     # Format options as a list (for easier model handling)\n",
    "#     processed_df['options'] = df.apply(\n",
    "#         lambda row: [\n",
    "#             row['A'] if pd.notna(row['A']) else '',\n",
    "#             row['B'] if pd.notna(row['B']) else '',\n",
    "#             row['C'] if pd.notna(row['C']) else '',\n",
    "#             row['D'] if pd.notna(row['D']) else '',\n",
    "#             row['E'] if pd.notna(row['E']) and 'E' in df.columns else ''\n",
    "#         ], axis=1\n",
    "#     )\n",
    "\n",
    "#     # Save the correct option and alternative\n",
    "#     processed_df['correct_option'] = df['correct']\n",
    "#     processed_df['correct_answer_text'] = df['alternative']\n",
    "\n",
    "#     return processed_df\n",
    "\n",
    "# def save_processed_mcqa_datasets(processed_df, filename, output_dir=\"processed_mcqa\"):\n",
    "#     \"\"\"Save processed dataframe to CSV file.\"\"\"\n",
    "#     os.makedirs(output_dir, exist_ok=True)\n",
    "#     output_path = f\"{output_dir}/{filename}\"\n",
    "#     processed_df.to_csv(output_path, index=False)\n",
    "#     print(f\"Saved processed MCQA dataset to '{output_path}'\")\n",
    "\n",
    "# translator = deepl.Translator(\"b88b70ad-988b-4b34-b87f-12b61578beb2:fx\")\n",
    "\n",
    "# def translate_questions_to_pt(questions, chunk_size=50):\n",
    "#     # Portuguese translations for the English MCQs\n",
    "#     translations = []\n",
    "#     for i in range(0, len(questions), chunk_size):\n",
    "#         batch = questions[i : i + chunk_size]\n",
    "#         result = translator.translate_text(batch, target_lang=\"PT-BR\")\n",
    "#         translations.extend([r.text for r in result])\n",
    "#     return translations\n",
    "\n",
    "# def preprocess_mcqa_data():\n",
    "#     \"\"\"Main function to orchestrate the entire MCQA preprocessing workflow.\"\"\"\n",
    "\n",
    "#     datasets = {\n",
    "#         'train': mcqa_train,\n",
    "#         'validation': mcqa_val,\n",
    "#         'test': mcqa_test\n",
    "#     }\n",
    "\n",
    "#     processed_datasets = {}\n",
    "\n",
    "#     for name, df in datasets.items():\n",
    "#         print(f\"Processing {name} dataset...\")\n",
    "\n",
    "#         # Clean and standardize data\n",
    "#         cleaned_df = clean_and_standardize_mcqa_data(df)\n",
    "\n",
    "#         # Create processed format\n",
    "#         processed_df = create_processed_mcqa_format(cleaned_df)\n",
    "\n",
    "#         # Create PT translations column\n",
    "#         processed_df[\"question_pt_deepl\"] = translate_questions_to_pt(processed_df[\"question\"].tolist())\n",
    "\n",
    "#          # Save processed dataset\n",
    "#         save_processed_mcqa_datasets(processed_df, f\"processed_mcqa_{name}.csv\")\n",
    "\n",
    "#         processed_datasets[name] = processed_df\n",
    "\n",
    "#     print(\"MCQA preprocessing complete for all datasets.\")\n",
    "#     return processed_datasets\n",
    "\n",
    "# if __name__ == \"__main__\":\n",
    "#     import os\n",
    "\n",
    "#     files_to_check = [\n",
    "#         \"processed_mcqa_train.csv\",\n",
    "#         \"processed_mcqa_validation.csv\",\n",
    "#         \"processed_mcqa_test.csv\"\n",
    "#     ]\n",
    "\n",
    "#     if all(os.path.exists(file) for file in files_to_check):\n",
    "#         print(\"Processed MCQA datasets already exist in current directory. Skipping preprocessing.\")\n",
    "#     else:\n",
    "#         preprocess_mcqa_data()"
   ]
  },
  {
   "cell_type": "code",
   "execution_count": null,
   "metadata": {
    "id": "dbKG5sGEQLxG"
   },
   "outputs": [],
   "source": [
    "mcqa_train = pd.read_csv(\"processed_mcqa_train.csv\")\n",
    "mcqa_val   = pd.read_csv(\"processed_mcqa_validation.csv\")\n",
    "mcqa_test  = pd.read_csv(\"processed_mcqa_test.csv\")"
   ]
  },
  {
   "cell_type": "code",
   "execution_count": null,
   "metadata": {
    "id": "zXQQmN3g3ysJ"
   },
   "outputs": [],
   "source": [
    "mcqa_train[\"options\"] = mcqa_train[\"options\"].apply(lambda x: ast.literal_eval(x) if isinstance(x, str) else x)\n",
    "# Replace with ['a', 'b', 'c', 'd', 'e'] if the list has exactly 5 options\n",
    "mcqa_train[\"options\"] = mcqa_train[\"options\"].apply(lambda x: ['a', 'b', 'c', 'd', 'e'] if isinstance(x, list) and len(x) == 5 else x)\n",
    "\n",
    "mcqa_test[\"options\"] = mcqa_test[\"options\"].apply(lambda x: ast.literal_eval(x) if isinstance(x, str) else x)\n",
    "# Replace with ['a', 'b', 'c', 'd', 'e'] if the list has exactly 5 options\n",
    "mcqa_test[\"options\"] = mcqa_test[\"options\"].apply(lambda x: ['a', 'b', 'c', 'd', 'e'] if isinstance(x, list) and len(x) == 5 else x)\n",
    "\n",
    "mcqa_val[\"options\"] = mcqa_val[\"options\"].apply(lambda x: ast.literal_eval(x) if isinstance(x, str) else x)\n",
    "# Replace with ['a', 'b', 'c', 'd', 'e'] if the list has exactly 5 options\n",
    "mcqa_val[\"options\"] = mcqa_val[\"options\"].apply(lambda x: ['a', 'b', 'c', 'd', 'e'] if isinstance(x, list) and len(x) == 5 else x)"
   ]
  },
  {
   "cell_type": "markdown",
   "metadata": {
    "id": "5T7eTUirPno0"
   },
   "source": [
    "Then, we create the initial tokenizer."
   ]
  },
  {
   "cell_type": "code",
   "execution_count": null,
   "metadata": {
    "colab": {
     "base_uri": "https://localhost:8080/",
     "height": 272,
     "referenced_widgets": [
      "bf522fcbd52f4cf7b3bdb06dbc4eac0d",
      "11284842d1fc47458b4f9caed796da6c",
      "08ac2f2518e041cb97647cb83c65cf9d",
      "0d3c4aaa6e8e4087808872c1646e1ada",
      "aba43463605047d288422e8076916b27",
      "b43f1fc26daa4de39891221e0757b302",
      "bffa713c43444e8aa74c39b1ab910ecc",
      "aa404142b23245e18837dcdc798726e3",
      "1f3d0eed73cd4d82b91f1ccb8287c20b",
      "f0724d81b3404a3f861d5dd40046258d",
      "fd891021a00c4d8584c27ceb52df62b2",
      "7b72a2a0f48f45e3854033f010ffdd72",
      "896b470ea6b4449a9ad245403874f400",
      "db8743c4c23d403e83006a4a7c01643e",
      "62e7bd7ed8ac4d1d80e4d2a4606d4a36",
      "e1c0ffddbe844e7785be6fa93380420d",
      "db0d5bb3c768458290a6bf7a58702d6f",
      "fccb4a5d9e3044f5bfa480afb7c23eda",
      "798cf3a9ed7a40a78fa15bfd8a0c43d9",
      "e5023c58042c4c3d86a14d47219944f8",
      "6d04aab4d1c8416a918c71c2842f5e6b",
      "f41513776a8644539ecf0ca99ac41996",
      "56a65405f0334da58da6fab7c106a41c",
      "3d83b53670fe4fa29398a62e62141c2e",
      "1fbbe0a3d24b48e8a273bb30ea9a0a14",
      "872db55ee3f74874ad33e192e0a95411",
      "72e1a58030094f669e1caec019812cec",
      "16dee76bb8a14ba79cc377f8ce03b12c",
      "df1c19c46a9242819a1dea007f076225",
      "f8cc838c2342440386181ecfb749bd3d",
      "e07b221c31314ca1af9253c746294076",
      "39695dff10104b1381ad05857f8bbcdd",
      "d7e2824723f84b4e9713babf03d79174",
      "6f9c70d89d4546259bdcc9137dffe0f9",
      "6836b5f10bff4f52a3234a8a14fb6067",
      "c7a4f85c73674a52a010f0e43e8dd85b",
      "5a1bc34fe22f4512ba487040bd8dcafd",
      "be95721633434b7da4a322b7a806ee51",
      "417fe3f6964343c6bbfded802a066a2f",
      "35487bf4314c48c3a23b1c95ca87d954",
      "159e498f1ca641839a849a95659abf3a",
      "0f0945c77cbf4e01b35cd4627125c323",
      "918abbc785364f7d846d580287d33151",
      "88ad7c1f2fc0442e9eb1823d25cdfece"
     ]
    },
    "executionInfo": {
     "elapsed": 1919,
     "status": "ok",
     "timestamp": 1746832046496,
     "user": {
      "displayName": "Michelle Chang",
      "userId": "15512863513129096251"
     },
     "user_tz": 240
    },
    "id": "yal5yw-fKw85",
    "outputId": "f6342544-c3b5-456d-cc79-ae0cfe7c7db5"
   },
   "outputs": [],
   "source": [
    "MODEL_NAME = \"bert-base-uncased\"\n",
    "MAX_LENGTH = 256\n",
    "BATCH_SIZE = 16\n",
    "\n",
    "tokenizer = AutoTokenizer.from_pretrained(MODEL_NAME, use_fast=True)"
   ]
  },
  {
   "cell_type": "code",
   "execution_count": null,
   "metadata": {
    "colab": {
     "base_uri": "https://localhost:8080/",
     "height": 209,
     "referenced_widgets": [
      "cb9d49ef883840989af7de17f4a15282",
      "b81a58e357244ac9ac47ccca575de8fe",
      "a491064d965241519e8c4647c7b5965d",
      "68c4e951dfe444b2abba990b017112bc",
      "3d0535477f274313ad922759c5036f42",
      "08bc27331af543569f34ea9bed9e02bf",
      "dc2f95631cc542e688425dd1bed8cc93",
      "6f9a3d2e5fc94f668a656db76f16b991",
      "5bfe2221075b4f19a38bbd58fdb5d5f3",
      "f2b6d4de4b9f4d6b82424de703fe590b",
      "0b1532ff6c4b44e39834565c476d67fd",
      "cc6d30a5470e4d00bd0a0b386c90e413",
      "b9cb02e7c37f41e98cac256e6c0433ed",
      "4b0ecf28fe8a48eba293b53c3041a265",
      "ecc94a4f400247b5bec79194fc86e4c0",
      "ca71e0ca7a494dc8bf2dfa7100a7511b",
      "429efc2f86fc4caf888a4b6db27d1860",
      "01398ba587e04d47b6f7f99d008f3243",
      "853fda8f02db406b8ef9652e99961345",
      "2f2a3df80f1642b3b1cdf8d461287f03",
      "e0057a1b46944c67bf2f166d5801627f",
      "eb0f30a62cd8420b92499d9b522f723e",
      "0eabf4a40cbd41fc807be91d03fd0f5e",
      "0561f82a99eb41b9aceff2ded5897e11",
      "9ebb664ef6344a46a79e660e01690ce0",
      "9be97a9ecb464dd6bdf0a27cce214b32",
      "49d24a47a1d148ee88f0a5babbfc3012",
      "ec4033ff40ae4184b38752c3b8b453a5",
      "6a8c5c238978408b8457e6b407c3ba3c",
      "b83f39835d7b4b90a59f86dac984ffeb",
      "f54bbd561b1e4edc9ddc62bab3e3778f",
      "4473f35897a641f0a804a546cdcbedd0",
      "43b452fab89947afb4ee7f6c95af0817",
      "bc09b2634ade4a979a6e6eb72d6bd4f0",
      "c8da6f298118430aa326540a5923f16e",
      "2415375f58834c4dba7a30a267202880",
      "50fb19c635994d69b8a80c406c0f0e7e",
      "86121815831a474ab518b709fdce2945",
      "f284eae5cf294df3882e7dee11ef4bdd",
      "829579b41cd14fb68d8366c44c1b180b",
      "39e0e5a5cf994bacb5e4671d73d602a8",
      "baf49b0c400c4319a25da81d1494c717",
      "b69480f6fa2b43269df83ccb3926643d",
      "6affaa596fe747b0b8aef90bacfbc507",
      "1ecd5efde09e4c96b18bddeaf19f341e",
      "cbf30c28035a4577875ab0150776c90b",
      "00c825d717524f77aa77cca2591b6fbe",
      "dcf954bf243841e38b5e23d825322c62",
      "fa0448c850744d8d8835115e01b9d7f7",
      "a8f47ba98083402d91c3ac4d4c260b64",
      "f7d26459567e48ec8affb25a9f439290",
      "054eeebb349f47d4990cf7e57c0abb4e",
      "9f71597be2c04220a9dc9c17d7a69ccc",
      "0793ea2ecc4a44fc86c6c29105d4f47f",
      "cc8e56ddd6e44f269f3cc65ffc44bdc0",
      "4168170ad7ab4aac85b58478887153d5",
      "468cd70fc2174489bb9b95c62e095998",
      "08942c3e22ac47ad914c73b7ca165549",
      "dd068250c1c44cc99e2c38cd6c4bd821",
      "500e726f99ec41939512341884018474",
      "2c51ddb80a31475090b678d691459a3f",
      "862a087e54c643e9bb0cd6180789e26e",
      "edfcaaf8035c43508cf88ab6f660d875",
      "eafd2ef7815b41f59bb6df0d18aa2217",
      "41012ee9487c4e6c94d862e7c2261d6d",
      "98ca8501e4744c07a9f46d142ae85634"
     ]
    },
    "executionInfo": {
     "elapsed": 7513,
     "status": "ok",
     "timestamp": 1746832054519,
     "user": {
      "displayName": "Michelle Chang",
      "userId": "15512863513129096251"
     },
     "user_tz": 240
    },
    "id": "wH6eLG8eKx5-",
    "outputId": "f4f81bbe-9b88-490a-8161-8157cdb3a77c"
   },
   "outputs": [],
   "source": [
    "from datasets import Dataset, DatasetDict, load_dataset\n",
    "\n",
    "def tokenize_qa(example):\n",
    "    return tokenizer(\n",
    "        example[\"context\"],\n",
    "        example[\"question\"],\n",
    "        padding=\"max_length\",\n",
    "        truncation=True,\n",
    "        max_length=MAX_LENGTH\n",
    "    )\n",
    "\n",
    "def load_and_tokenize_qa(split_name):\n",
    "    df = pd.read_csv(f\"processed_qa_{split_name}_en.csv\")\n",
    "    dataset = Dataset.from_pandas(df)\n",
    "    return dataset.map(tokenize_qa, batched=True, batch_size=BATCH_SIZE)\n",
    "\n",
    "def load_and_tokenize_qa_pt(split_name):\n",
    "    df = pd.read_csv(f\"processed_qa_{split_name}_pt.csv\")\n",
    "    dataset = Dataset.from_pandas(df)\n",
    "    return dataset.map(tokenize_qa, batched=True, batch_size=BATCH_SIZE)\n",
    "\n",
    "qa_datasets = DatasetDict({\n",
    "    \"train\": load_and_tokenize_qa(\"train\"),\n",
    "    \"validation\": load_and_tokenize_qa(\"val\"),\n",
    "    \"test\": load_and_tokenize_qa(\"test\")\n",
    "})\n",
    "\n",
    "pt_qa_datasets = DatasetDict({\n",
    "    \"train\": load_and_tokenize_qa_pt(\"train\"),\n",
    "    \"validation\": load_and_tokenize_qa_pt(\"val\"),\n",
    "    \"test\": load_and_tokenize_qa_pt(\"test\")\n",
    "})"
   ]
  },
  {
   "cell_type": "code",
   "execution_count": null,
   "metadata": {
    "colab": {
     "base_uri": "https://localhost:8080/",
     "height": 183,
     "referenced_widgets": [
      "95500330ac1443eea769bf9fdcb37d62",
      "7cdc2886a61046c3a59518bb7dcc9160",
      "8a83b54c2161467ab3dfc28515bfdc60",
      "ffd076597eb649ef81542abc1c1c58b4",
      "1d090680bbc34b1cbdff4af33682d3c4",
      "de3d29a8c9ed4ca081c5cf44c2061735",
      "769f68a208eb46c8ad67fbd00d226b70",
      "e0f9257fe0b242c59e5e252fcb25baf4",
      "5c5242d101fd4090a2638af4ec95a439",
      "1a7b6019634443f3a38164a7d1ef935d",
      "dc8fb4a4ea7a4d4baa359891ce461a04",
      "e3e13d526c2141ffb449fc314c605535",
      "4ea35a4804154f34b9e4353ff3f0510f",
      "6615784cb6834ce683d32ec48d4a73aa",
      "88c2832fde3b466c8d3bd09d2601d4ca",
      "b35b672a1d11440abc9c57275b80aa06",
      "65ebc20a35114192858ae4a6f2d56549",
      "6f8e4076ca8140dc9c25525295a36ca6",
      "c36f9cc3d3e0471ca25ef86a80485442",
      "f0bac15a86f7426aa66d3d7d5134f07f",
      "4466ec9720c7458499ef1f9a94d6a8df",
      "7ff7d0330999416b89916ceeeee5bafe",
      "a61d0e554fee473aac5a655181b7f23f",
      "a1c94dc30e1541799461a2e5f2431920",
      "03f67d36bc894414832706bd6e6226f9",
      "7e40c8fd8e8049809227b80ef1118694",
      "18bc6f8b34b049e7984b84aa6c11ea07",
      "95e212f0cc0f408baa3d9be07f589514",
      "5968217987eb458f8f946f7343d36965",
      "29f5fcc8a7b542ce92d2bf82799439ec",
      "67a6aa8f8a5c4e44ba1127ab0d683ea7",
      "5430e3fbfcbd44e898397d8e471223f0",
      "673a66f8723449e6a8f37942164cf299",
      "b2d9a14173744a99aaab32ef9d0eb75a",
      "0b6cfbc18ce842cfac3deb9164812059",
      "1797e493b6a14d3f8a81d31692bb6602",
      "5e5381ca227d4a6e826d1620c0f276b5",
      "a09c4a6c726a4ccc98fcb2545b7ec0c7",
      "13f9c3b4ce0b44a08622b592aaa3fa59",
      "251a28554f47426aa030bd9a7df34161",
      "09d34d98ade242c39b418786a61706e9",
      "b7eb146355574d928823ae00750b3470",
      "19462205577640ec9da3bf02039f6b0b",
      "64fe4a39ff514d1abd2fe7080797b484"
     ]
    },
    "executionInfo": {
     "elapsed": 18072,
     "status": "ok",
     "timestamp": 1746832072556,
     "user": {
      "displayName": "Michelle Chang",
      "userId": "15512863513129096251"
     },
     "user_tz": 240
    },
    "id": "khTfJD_JK9aS",
    "outputId": "70c7a606-8594-4bd0-9aa0-5e5040941957"
   },
   "outputs": [],
   "source": [
    "def tokenize_mcqa(batch):\n",
    "    full_inputs = [\n",
    "        f\"{c} [SEP] {q} [SEP] {o}\"\n",
    "        for c, q, o in zip(batch[\"context\"], batch[\"question\"], batch[\"option\"])\n",
    "    ]\n",
    "    return tokenizer(\n",
    "        full_inputs,\n",
    "        padding=\"max_length\",\n",
    "        truncation=True,\n",
    "        max_length=MAX_LENGTH\n",
    "    )\n",
    "\n",
    "def expand_and_tokenize_mcqa(df):\n",
    "    df[\"options\"] = df[\"options\"].apply(lambda x: eval(x) if isinstance(x, str) else x)\n",
    "\n",
    "    expanded_rows = []\n",
    "    for _, row in df.iterrows():\n",
    "        for option in row[\"options\"]:\n",
    "            expanded_rows.append({\n",
    "                \"context\": row[\"context\"],\n",
    "                \"question\": row[\"question\"],\n",
    "                \"option\": option,\n",
    "                \"label\": int(option == row[\"correct_answer_text\"]),\n",
    "                \"id\": row.get(\"id\", None)\n",
    "            })\n",
    "\n",
    "    expanded_df = pd.DataFrame(expanded_rows)\n",
    "    dataset = Dataset.from_pandas(expanded_df)\n",
    "    return dataset.map(tokenize_mcqa, batched=True, batch_size=BATCH_SIZE)\n",
    "\n",
    "\n",
    "def expand_and_tokenize_mcqa_pt(df):\n",
    "    df[\"options\"] = df[\"options\"].apply(lambda x: eval(x) if isinstance(x, str) else x)\n",
    "\n",
    "    expanded_rows = []\n",
    "    for _, row in df.iterrows():\n",
    "        for option in row[\"options\"]:\n",
    "            expanded_rows.append({\n",
    "                \"context\": row[\"context\"],\n",
    "                \"question\": row[\"question_pt_deepl\"],\n",
    "                \"option\": option,\n",
    "                \"label\": int(option == row[\"correct_answer_text\"]),\n",
    "                \"id\": row.get(\"id\", None)\n",
    "            })\n",
    "\n",
    "    expanded_df = pd.DataFrame(expanded_rows)\n",
    "    dataset = Dataset.from_pandas(expanded_df)\n",
    "    return dataset.map(tokenize_mcqa, batched=True, batch_size=BATCH_SIZE)\n",
    "\n",
    "mcqa_datasets = DatasetDict({\n",
    "    \"train\": expand_and_tokenize_mcqa(mcqa_train),\n",
    "    \"validation\": expand_and_tokenize_mcqa(mcqa_val),\n",
    "    \"test\": expand_and_tokenize_mcqa(mcqa_test)\n",
    "})\n",
    "\n",
    "mcqa_pt_test_dataset = expand_and_tokenize_mcqa_pt(mcqa_test)\n",
    "print(mcqa_pt_test_dataset[0])"
   ]
  },
  {
   "cell_type": "code",
   "execution_count": null,
   "metadata": {
    "id": "8OTrkaz7LNj4"
   },
   "outputs": [],
   "source": [
    "# Load processed English datasets\n",
    "qa_en_train = pd.read_csv(\"processed_qa_train_en.csv\")\n",
    "qa_en_val   = pd.read_csv(\"processed_qa_val_en.csv\")\n",
    "qa_en_test  = pd.read_csv(\"processed_qa_test_en.csv\")\n",
    "qa_en_all = pd.concat([qa_en_train, qa_en_val, qa_en_test], ignore_index=True)\n",
    "\n",
    "# Load processed Portuguese datasets\n",
    "qa_pt_train = pd.read_csv(\"processed_qa_train_pt.csv\")\n",
    "qa_pt_val   = pd.read_csv(\"processed_qa_val_pt.csv\")\n",
    "qa_pt_test  = pd.read_csv(\"processed_qa_test_pt.csv\")\n",
    "qa_pt_all = pd.concat([qa_pt_train, qa_pt_val, qa_pt_test], ignore_index=True)"
   ]
  },
  {
   "cell_type": "markdown",
   "metadata": {
    "id": "09XVlWJA9NiM"
   },
   "source": [
    "<a id=\"eda\"></a>\n",
    "# 3. EDA"
   ]
  },
  {
   "cell_type": "code",
   "execution_count": null,
   "metadata": {
    "colab": {
     "base_uri": "https://localhost:8080/",
     "height": 890
    },
    "executionInfo": {
     "elapsed": 847,
     "status": "ok",
     "timestamp": 1746828115997,
     "user": {
      "displayName": "Anay Patel",
      "userId": "09797088053761250334"
     },
     "user_tz": 240
    },
    "id": "Of0ag4LkLrCp",
    "outputId": "2f4014af-1084-451e-ea40-619439feab8d"
   },
   "outputs": [],
   "source": [
    "# Bar plot of question types\n",
    "plt.figure(figsize=(8, 4))\n",
    "sns.countplot(data=qa_train, x='question_type')\n",
    "plt.xticks(rotation=45)\n",
    "plt.title(\"Distribution of Question Types\")\n",
    "plt.show()\n",
    "\n",
    "# Bar plot of answer difficulty (if filled)\n",
    "plt.figure(figsize=(6, 4))\n",
    "sns.histplot(qa_train['answer_difficulty'].dropna(), bins=5, discrete=True)\n",
    "plt.title(\"Distribution of Answer Difficulty\")\n",
    "plt.show()"
   ]
  },
  {
   "cell_type": "markdown",
   "metadata": {
    "id": "oJHjmUSWLAzI"
   },
   "source": [
    "Our project is centered around the question-answer format, including multiple choice questions and short answer questions, in a multilingual setting, specifically English and Portuguese. Given that our goal is to train a model that can achieve a high accuracy in answering questions, it is important to dissect our training data to identify any potential biases that can influence our model in unintended ways.\n",
    "\n",
    "The first analysis that we decided would be of utmost importance was the question type (the classic who, what, when, where, why, and how). Question types can differ in complexity significantly. For example, intuitively, “what” would be an easier type of question to answer than “why”. Our dataset has these question types labeled, so understanding the distribution can help us identify model pain points. Our dataset overwhelmingly comprises of “what” questions, followed distantly by “how”. This does indicate a class imbalance. This is a challenging issue to address because questions of different types are innately looking for different answers. Oversampling the minority classes would not be viable because questions are unique, so it would be no different than just duplicating the same question over and over again, which does not have a purpose. Undersampling the majority class is an option, but we could lose a lot of questions in the majority class because of the magnitude of the difference in class counts. This leaves us with a couple of options. We could just train a model agnostic to question type, which would decrease our ability to assess model performance at a more granular level, or we can train separate models based on question type. The latter might be problematic for the classes with less data but does allow for more detail in our analysis.\n",
    "\n",
    "Similar to question type, we also have data for question difficulty. The reasoning for looking into this is along the same lines. We will be interested in how our model performs on simple questions compared to difficult questions. We would expect the model to perform better on the simple questions, but if this is not the case, there would be a cause for concern. The class imbalance is far less egregious for this case, but question difficulty of 1 (simplest) is the majority class, and 5 (hardest) is the minority class. One option would be to train our model on combinations of question type and difficulty, but this could spread the data too thin. One compromise could be to just pick one of the two splits and go from there, or we can stay completely agnostic."
   ]
  },
  {
   "cell_type": "code",
   "execution_count": null,
   "metadata": {
    "colab": {
     "base_uri": "https://localhost:8080/",
     "height": 423
    },
    "executionInfo": {
     "elapsed": 3486,
     "status": "ok",
     "timestamp": 1746828122510,
     "user": {
      "displayName": "Anay Patel",
      "userId": "09797088053761250334"
     },
     "user_tz": 240
    },
    "id": "Xl-VSQVZSpKv",
    "outputId": "8099371f-5f71-436c-a37b-9ec0f323f0f4"
   },
   "outputs": [],
   "source": [
    "# Combine all questions into raw text\n",
    "qa_text = ' '.join(qa_train['question_en_origin'].dropna().astype(str).tolist() +\n",
    "                   qa_val['question_en_origin'].dropna().astype(str).tolist() +\n",
    "                   qa_test['question_en_origin'].dropna().astype(str).tolist())\n",
    "\n",
    "mcqa_text = ' '.join(mcqa_train['question'].dropna().astype(str).tolist() +\n",
    "                     mcqa_val['question'].dropna().astype(str).tolist() +\n",
    "                     mcqa_test['question'].dropna().astype(str).tolist())\n",
    "\n",
    "# Function to preprocess text\n",
    "def clean_text(text):\n",
    "    text = text.lower()\n",
    "    text = text.translate(str.maketrans('', '', string.punctuation))  # Remove punctuation\n",
    "    stopwords = set(STOPWORDS)\n",
    "    words = [word for word in text.split() if word not in stopwords and word.isalpha()]\n",
    "    return ' '.join(words)\n",
    "\n",
    "# Clean the texts\n",
    "qa_text_clean = clean_text(qa_text)\n",
    "mcqa_text_clean = clean_text(mcqa_text)\n",
    "\n",
    "def dark_blue_func(word, font_size, position, orientation, random_state=None, **kwargs):\n",
    "    return \"hsl(210, 100%%, %d%%)\" % random.randint(10, 25)  # Low lightness = dark\n",
    "\n",
    "qa_wordcloud = WordCloud(width=800, height=400, background_color='white',\n",
    "                         color_func=dark_blue_func).generate(qa_text_clean)\n",
    "\n",
    "# Generate word clouds\n",
    "qa_wordcloud = WordCloud(width=800, height=400, background_color='white',\n",
    "                         color_func=dark_blue_func).generate(qa_text_clean)\n",
    "mcqa_wordcloud = WordCloud(width=800, height=400, background_color='white',\n",
    "                           color_func=dark_blue_func).generate(mcqa_text_clean)\n",
    "\n",
    "# Plot side-by-side\n",
    "plt.figure(figsize=(16, 8))\n",
    "\n",
    "plt.subplot(1, 2, 1)\n",
    "plt.imshow(qa_wordcloud, interpolation='bilinear')\n",
    "plt.title(\"QA Dataset (Cleaned) - Word Cloud\")\n",
    "plt.axis('off')\n",
    "\n",
    "plt.subplot(1, 2, 2)\n",
    "plt.imshow(mcqa_wordcloud, interpolation='bilinear')\n",
    "plt.title(\"MCQA Dataset (Cleaned) - Word Cloud\")\n",
    "plt.axis('off')\n",
    "\n",
    "plt.tight_layout()\n",
    "plt.show()"
   ]
  },
  {
   "cell_type": "markdown",
   "metadata": {
    "id": "3rGVE9eWLOZb"
   },
   "source": [
    "We then created word clouds to visualize the content and predominant themes of our data. We see “Brazil” and “Petrobras” as two of the most common words. Along with other words related to water, oil, and the coast, we can see a clear theme of environmental, marine, and petroleum, centered around Brazilian coastlines. This gives us important context about the scope of our data. Our model will be most knowledgeable about questions that are highly relevant to these themes and may struggle with more vague or unrelated questions. We would expect the model to perform poorly on questions completely outside this scope unless adequate context is included. An important note is that these word clouds were created after removing stop words in order to narrow our focus to descriptive words. This analysis does not necessarily constitute any modeling modifications, but it does give us another angle to assess model performance from. How does our model perform on questions that include very common words? Does the amount of data strengthen the performance or dilute the context? These questions could be interesting to look into once we settle on the final model."
   ]
  },
  {
   "cell_type": "code",
   "execution_count": null,
   "metadata": {
    "colab": {
     "base_uri": "https://localhost:8080/",
     "height": 1000
    },
    "executionInfo": {
     "elapsed": 2845,
     "status": "ok",
     "timestamp": 1746828128693,
     "user": {
      "displayName": "Anay Patel",
      "userId": "09797088053761250334"
     },
     "user_tz": 240
    },
    "id": "9nR_xM85QZEM",
    "outputId": "fbe135a7-5983-4eda-dce8-e420fe6f0773"
   },
   "outputs": [],
   "source": [
    "def add_metrics(df, text_column=\"question\"):\n",
    "    df[\"char_length\"] = df[text_column].astype(str).apply(len)\n",
    "    df[\"word_count\"] = df[text_column].astype(str).apply(lambda x: len(x.split()))\n",
    "    df[\"token_count\"] = df[text_column].astype(str).apply(lambda x: len(tokenizer.tokenize(x)))\n",
    "    return df\n",
    "\n",
    "# 1) Compute metrics on the PT MCQA questions column\n",
    "mcqa_train_en = add_metrics(mcqa_train.copy(), text_column=\"question\")\n",
    "mcqa_train_pt = add_metrics(mcqa_train.copy(), text_column=\"question_pt_deepl\")\n",
    "\n",
    "qa_en_train = add_metrics(qa_en_train, text_column=\"question\")\n",
    "qa_pt_train = add_metrics(qa_pt_train, text_column=\"question\")\n",
    "\n",
    "# the three metrics and colors stay the same\n",
    "metrics = [\n",
    "    (\"char_length\", \"Character Length\"),\n",
    "    (\"word_count\",  \"Word Count\"),\n",
    "    (\"token_count\", \"Token Count\"),\n",
    "]\n",
    "colors = [\"red\", \"green\", \"blue\"]\n",
    "\n",
    "# Define the two groups: MCQA (EN/PT) and QA (EN/PT)\n",
    "groups = [\n",
    "    (\n",
    "        [(mcqa_train_en, \"MCQA Train (EN)\"),\n",
    "         (mcqa_train_pt, \"MCQA Train (PT)\")],\n",
    "        \"MCQA Question Distributions\"\n",
    "    ),\n",
    "    (\n",
    "        [(qa_en_train,   \"Short Answer QA Train (EN)\"),\n",
    "         (qa_pt_train,   \"Short Answer QA Train (PT)\")],\n",
    "        \"Short-Answer QA Distributions\"\n",
    "    ),\n",
    "]\n",
    "\n",
    "for data_list, fig_title in groups:\n",
    "    # 1) compute per-group global_limits\n",
    "    global_limits = {}\n",
    "    for metric, _ in metrics:\n",
    "        all_vals = np.concatenate([df[metric].values for df, _ in data_list])\n",
    "        x_min, x_max = all_vals.min(), all_vals.max()\n",
    "        bins = np.linspace(x_min, x_max, 31)\n",
    "        max_freq = max(\n",
    "            np.histogram(df[metric], bins=bins)[0].max()\n",
    "            for df, _ in data_list\n",
    "        )\n",
    "        global_limits[metric] = (x_min, x_max, max_freq, bins)\n",
    "\n",
    "    # 2) make a 2×3 figure\n",
    "    fig, axes = plt.subplots(nrows=2, ncols=3, figsize=(12, 8))\n",
    "    fig.suptitle(fig_title, fontsize=14)\n",
    "    plt.subplots_adjust(hspace=0.4, wspace=0.3)\n",
    "\n",
    "    # 3) draw the histograms\n",
    "    for row_idx, (df, title) in enumerate(data_list):\n",
    "        for col_idx, (metric, metric_title) in enumerate(metrics):\n",
    "            ax = axes[row_idx, col_idx]\n",
    "            x_min, x_max, max_freq, bins = global_limits[metric]\n",
    "\n",
    "            ax.hist(df[metric], bins=bins,\n",
    "                    color=colors[col_idx], edgecolor=\"black\")\n",
    "            ax.set_xlim(x_min, x_max)\n",
    "            ax.set_ylim(0, max_freq * 1.1)\n",
    "\n",
    "            ax.set_title(f\"{title}\\n{metric_title}\", fontsize=10)\n",
    "            ax.set_xlabel(metric_title)\n",
    "            ax.set_ylabel(\"Frequency\")\n",
    "\n",
    "    plt.tight_layout(rect=[0, 0, 1, 0.95])\n",
    "    plt.show()"
   ]
  },
  {
   "cell_type": "markdown",
   "metadata": {
    "id": "eAIu4k12LTBP"
   },
   "source": [
    "The next few quantities we were interested in measuring related to the length of the questions. In particular, this included the character length, word count, and token count. We wanted to compare these across our datasets: English MCQA, Portuguese MCQA (we used DeepL to translate the English to Portuguese), English QA, and Portuguese QA. Starting with the histograms for the MCQA, we can observe quite similar distributions of character length and word count for English and Portuguese, however, the token count distributions tell a different story. Most notably, the Portuguese MCQA token count distribution shows a much more distinct right-skewness, as well as a higher overall distribution center (around 25-30 compared to 15-20 for English). This is an interesting result because tokens are what is used in our language models. This result could be because of tokenization compatibility discrepancies across languages. We do not hypothesize that this will negatively impact our model, but it is worth taking note of. The short answer questions show a similar story, with very similar character length and word count distributions, but noticeably different token count distributions. Once again, the Portuguese data has a higher mode (around 20-30 compared to 15-20 for English) and a more pronounced right-skewness. Since this pattern is consistent across question structures, we believe this is simply due to the nature of the languages. If we observe significant differences across languages in our validation assessment, this could be something to reference back to."
   ]
  },
  {
   "cell_type": "code",
   "execution_count": null,
   "metadata": {
    "colab": {
     "base_uri": "https://localhost:8080/"
    },
    "executionInfo": {
     "elapsed": 17,
     "status": "ok",
     "timestamp": 1746828133230,
     "user": {
      "displayName": "Anay Patel",
      "userId": "09797088053761250334"
     },
     "user_tz": 240
    },
    "id": "QQn7aW2pT_6P",
    "outputId": "d122fed5-8cfc-487c-d11d-3d16834ee239"
   },
   "outputs": [],
   "source": [
    "# Calculate and print the number of answerable and unanswerable questions.\n",
    "# Turned it to(1 = answerable 0 = unanswerable).\n",
    "answer_counts = qa_en_all['label'].value_counts()\n",
    "print(\"Answer Count (English):\")\n",
    "print(answer_counts)\n",
    "\n",
    "# Calculate and print the number of answerable and unanswerable questions.\n",
    "# Here, the column 'label' indicates answerability (1 = answerable, 0 = unanswerable).\n",
    "answer_counts_pt = qa_pt_all['label'].value_counts()\n",
    "print(\"Answer Counts (Portuguese):\")\n",
    "print(answer_counts_pt)"
   ]
  },
  {
   "cell_type": "code",
   "execution_count": null,
   "metadata": {
    "colab": {
     "base_uri": "https://localhost:8080/",
     "height": 407
    },
    "executionInfo": {
     "elapsed": 182,
     "status": "ok",
     "timestamp": 1746828134812,
     "user": {
      "displayName": "Anay Patel",
      "userId": "09797088053761250334"
     },
     "user_tz": 240
    },
    "id": "c6rvuGpTUAzj",
    "outputId": "30abae64-ba6e-458f-fa70-35bff1b8ff1b"
   },
   "outputs": [],
   "source": [
    "total = answer_counts.sum()\n",
    "percentages = (answer_counts / total * 100).round(1)\n",
    "\n",
    "plt.figure(figsize=(6, 4))\n",
    "ax = answer_counts.sort_index().plot(kind='bar', color=['red', 'green'])\n",
    "plt.title(\"Distribution of Answerable vs Unanswerable Questions\")\n",
    "plt.xlabel(\"Answerability Indicator (0 = unanswerable, 1 = answerable)\")\n",
    "plt.ylabel(\"Number of Questions\")\n",
    "plt.xticks(ticks=[0, 1], labels=[\"Unanswerable (0)\", \"Answerable (1)\"], rotation=0)\n",
    "for i, count in enumerate(answer_counts.sort_index()):\n",
    "    plt.text(i, count + total * 0.01, f'{percentages[i]}%', ha='center', va='bottom')\n",
    "\n",
    "plt.tight_layout()\n",
    "plt.show()"
   ]
  },
  {
   "cell_type": "markdown",
   "metadata": {
    "id": "l2Pngxw3rW_a"
   },
   "source": [
    "The final class we deemed important was answerability. We compared the counts of unanswerable versus answerable questions in the QA sets. We found that 95.5% of questions were answerable, while 4.5% were not. This is again an interesting case of class imbalance, one where it is not clear whether it is concerning or not. As we mentioned earlier, the scope of this project is fairly specific (environment, marine ecosystems, oil, etc.), so we could reasonably expect questions to be related to these fields. On the contrary, it is possible that unrelated questions were thrown into the pool to see whether the models hallucinate and try to produce an answer even though they do not have the appropriate context. These “bait” questions theoretically make sense to include for that purpose, but it is also possible that the models actually could not produce an answer for questions that they should have been able to answer. We could either choose to not consider the “unanswerable” questions, or we could include them and see what our model produces for those questions. The latter seems like a more well-rounded approach that could also handle new questions, giving them a label as an option in case the question truly is unrelated to the fields we are working with. Our current plan is to include all these questions and remain agnostic to these classes."
   ]
  },
  {
   "cell_type": "markdown",
   "metadata": {
    "id": "GMB7WyWN9atB"
   },
   "source": [
    "<a id=\"baseline\"></a>\n",
    "# 4. Baseline Model"
   ]
  },
  {
   "cell_type": "markdown",
   "metadata": {
    "id": "NMIph76MYS0f"
   },
   "source": [
    "For the baseline model, we selected a pre-trained bert-base-uncased model fine-tuned as a binary classifier (num_labels=2). This choice reflects a balance between simplicity, interpretability, and relevance: BERT is a widely adopted architecture for natural language understanding tasks and serves as a strong benchmark. Although simpler models like logistic regression could be faster, they would not realistically handle the complexity of multiple-choice question answering (MCQA) or QA tasks.\n"
   ]
  },
  {
   "cell_type": "code",
   "execution_count": null,
   "metadata": {
    "colab": {
     "base_uri": "https://localhost:8080/",
     "height": 140,
     "referenced_widgets": [
      "49c11f43cc694c79ba49f33d200d5b94",
      "b136697da9ae448cb2d2d1f2dda5d96a",
      "56c19191617e41cabc21218bf94e9f8c",
      "825446ec522844febbf8d6f3e14fba4f",
      "96eea92b334f453aa0931569f44f8fb5",
      "9b7992a60a50412c9e6abe6c4d64a623",
      "fff4bf2a875b4e9d8da185b4eb8e9ac3",
      "c7f4a55907a049d9b02705ea5fc79636",
      "b7c0b4f7cf4a44f88ec5cca7f155d7aa",
      "b245819ca6064ff4adc7ea2f6d2d92cb",
      "dbd0ae5a528c4d5993a2455cb654284d"
     ]
    },
    "executionInfo": {
     "elapsed": 2489,
     "status": "ok",
     "timestamp": 1746832075222,
     "user": {
      "displayName": "Michelle Chang",
      "userId": "15512863513129096251"
     },
     "user_tz": 240
    },
    "id": "27gWERTwxB5h",
    "outputId": "249f8b45-6ebe-4a15-a4a2-a2fe775bf897"
   },
   "outputs": [],
   "source": [
    "from transformers import AutoModelForSequenceClassification\n",
    "\n",
    "baseline_model = AutoModelForSequenceClassification.from_pretrained(MODEL_NAME, num_labels=2)"
   ]
  },
  {
   "cell_type": "code",
   "execution_count": null,
   "metadata": {
    "colab": {
     "base_uri": "https://localhost:8080/"
    },
    "executionInfo": {
     "elapsed": 2347,
     "status": "ok",
     "timestamp": 1746832081990,
     "user": {
      "displayName": "Michelle Chang",
      "userId": "15512863513129096251"
     },
     "user_tz": 240
    },
    "id": "B4NxPrE0xZNh",
    "outputId": "54c511ce-5c3a-43cc-c2c0-4839387e352a"
   },
   "outputs": [],
   "source": [
    "!pip install evaluate"
   ]
  },
  {
   "cell_type": "markdown",
   "metadata": {
    "id": "zyyv9pPDYxy1"
   },
   "source": [
    "The training process involved some preprocessing: questions, context passages, and options were tokenized using the default BERT tokenizer, padded and truncated to a maximum sequence length (default by the tokenizer). Each QA or MCQA sample was expanded and labeled appropriately. The model was fine-tuned for one epoch with a learning rate of 2e-5, a batch size of 8, and no weight decay. Training was configured to minimize external logging and evaluation happened once per epoch. The evaluation metric was accuracy, computed by mapping the maximum logit prediction to the true label. Huggingface’s Trainer class was used for simple and robust model management."
   ]
  },
  {
   "cell_type": "code",
   "execution_count": null,
   "metadata": {
    "colab": {
     "base_uri": "https://localhost:8080/",
     "height": 49,
     "referenced_widgets": [
      "74840d96aa5240008b900865097a0cd9",
      "93f08732af8d42f39c9e411cdaa3788f",
      "f35e61b407c4421aa9fdeeb274086cc1",
      "6590cc513abc4f0f9834772b22a20a9f",
      "66263f0aa36b4d37b292c8513bbeaa0b",
      "7128d77ceea84833b20d40e86054f02f",
      "4f6cc76080c2450682b6f7b2815739b9",
      "e78b40d918894612b1d05706f3eae678",
      "531cac38e53146439ab938dd3eba3a42",
      "6f780af7ac0a47b99d96cac7862c5e48",
      "2d1de096efc0475a80fb8270ade2a92c"
     ]
    },
    "executionInfo": {
     "elapsed": 1029,
     "status": "ok",
     "timestamp": 1746832083034,
     "user": {
      "displayName": "Michelle Chang",
      "userId": "15512863513129096251"
     },
     "user_tz": 240
    },
    "id": "3cvabXrAxcdS",
    "outputId": "9f09345f-3b7c-4247-a773-d6834daab901"
   },
   "outputs": [],
   "source": [
    "from transformers import TrainingArguments, Trainer\n",
    "import evaluate\n",
    "import numpy as np\n",
    "\n",
    "accuracy = evaluate.load(\"accuracy\")\n",
    "\n",
    "def compute_metrics(eval_pred):\n",
    "    logits, labels = eval_pred\n",
    "    predictions = np.argmax(logits, axis=-1)\n",
    "    return accuracy.compute(predictions=predictions, references=labels)\n",
    "\n",
    "import os\n",
    "os.environ[\"WANDB_DISABLED\"] = \"true\"\n",
    "\n",
    "from transformers.utils import logging\n",
    "logging.set_verbosity_error()\n",
    "\n",
    "training_args = TrainingArguments(\n",
    "    output_dir=\"./results\",\n",
    "    do_train=True,\n",
    "    do_eval=True,\n",
    "    learning_rate=2e-5,\n",
    "    per_device_train_batch_size=8,\n",
    "    num_train_epochs=1,\n",
    "    weight_decay=0.0,\n",
    "    logging_dir=\"./logs\"\n",
    ")"
   ]
  },
  {
   "cell_type": "code",
   "execution_count": null,
   "metadata": {
    "colab": {
     "base_uri": "https://localhost:8080/"
    },
    "executionInfo": {
     "elapsed": 478383,
     "status": "ok",
     "timestamp": 1746834535235,
     "user": {
      "displayName": "Michelle Chang",
      "userId": "15512863513129096251"
     },
     "user_tz": 240
    },
    "id": "VmoRLw5oxjxD",
    "outputId": "158a4a7e-db32-4acd-f653-56c954f2c8a6"
   },
   "outputs": [],
   "source": [
    "trainer = Trainer(\n",
    "    model=baseline_model,\n",
    "    args=training_args,\n",
    "    train_dataset=mcqa_datasets[\"train\"],\n",
    "    eval_dataset=mcqa_datasets[\"validation\"],\n",
    "    tokenizer=tokenizer,\n",
    "    compute_metrics=compute_metrics,\n",
    ")\n",
    "\n",
    "trainer.train()"
   ]
  },
  {
   "cell_type": "markdown",
   "metadata": {
    "id": "gyQQNFCmY6v0"
   },
   "source": [
    "Our initial test results reflect a pretty high evaluation accuracy of 0.8 on both the English and Portuguese MCQA datasets. However, upon closer inspection, we realized that this is because the model is predicting all the options as incorrect. Since there are 5 answer choices for each question, and only one being the correct one, the model is hence able to achieve 80% accuracy by labeling all the options a incorrect (0). As such, this is not an informative model as our goal is to predict the right answer, leading us to explore other modelling strategies to combat this issue."
   ]
  },
  {
   "cell_type": "code",
   "execution_count": null,
   "metadata": {
    "colab": {
     "base_uri": "https://localhost:8080/"
    },
    "executionInfo": {
     "elapsed": 16646,
     "status": "ok",
     "timestamp": 1746828650751,
     "user": {
      "displayName": "Anay Patel",
      "userId": "09797088053761250334"
     },
     "user_tz": 240
    },
    "id": "BRra0K9JxlD-",
    "outputId": "bae5dd9e-30e9-44fe-e3ce-e20fce36228d"
   },
   "outputs": [],
   "source": [
    "trainer.evaluate(mcqa_datasets[\"test\"])"
   ]
  },
  {
   "cell_type": "code",
   "execution_count": null,
   "metadata": {
    "colab": {
     "base_uri": "https://localhost:8080/"
    },
    "executionInfo": {
     "elapsed": 17510,
     "status": "ok",
     "timestamp": 1746828674930,
     "user": {
      "displayName": "Anay Patel",
      "userId": "09797088053761250334"
     },
     "user_tz": 240
    },
    "id": "7xwJ21KZ3bxS",
    "outputId": "ff9adf5f-2abe-4389-a4df-0f9ffe45d939"
   },
   "outputs": [],
   "source": [
    "trainer.evaluate(eval_dataset=mcqa_pt_test_dataset)"
   ]
  },
  {
   "cell_type": "markdown",
   "metadata": {
    "id": "5hpw8IZCZnkl"
   },
   "source": [
    "We then went on to tokenize our QA dataset to evaluate the performance of this simple Bert model on QA predictions."
   ]
  },
  {
   "cell_type": "code",
   "execution_count": null,
   "metadata": {
    "colab": {
     "base_uri": "https://localhost:8080/",
     "height": 81,
     "referenced_widgets": [
      "17342e9986ab417cb06698afa0a73dc8",
      "be0785d210134909a7e3c9bb41f029ba",
      "402e835d48b540f785bfb028817d1eff",
      "dfc347a476df41679f7f68bd80d35647",
      "9b86da4358c8463d9fc2ccf7885c55a6",
      "63e9d44721bf4694a081f3150686b489",
      "17589c44325d42af823bdba13f7dc329",
      "b1a57e9e388d4747882a90d2982c0ab8",
      "423b9d55b79e49429e412bef4187a900",
      "749b71c5783045909b6a3eff74abad53",
      "8ae36522a19e4ce3a7fe0128a383709a",
      "49bdca8bbc2a4e20821abb35d433fb4f",
      "014500cd4cd34177a5a021169d53de1e",
      "2a02d775f6b34b1095f6a8f98d0033ee",
      "3c14d6112a15477eb6a3ac84666fed42",
      "8c35be5cd4264d22b16e8f0c8659e3b4",
      "1fb0835cc91945f4ad4da5efda15ff21",
      "22e136a8b5a64afaa47dc0df703f025a",
      "9f28dce123e546f79aff01877248abbd",
      "144c212e1e5f4a5ca19a777f4b45f2e1",
      "e9d15733cf1c49be82ed36d69e3ebada",
      "e2e72bd47e1d4c73bb607924cf799675"
     ]
    },
    "executionInfo": {
     "elapsed": 4897,
     "status": "ok",
     "timestamp": 1746832558787,
     "user": {
      "displayName": "Michelle Chang",
      "userId": "15512863513129096251"
     },
     "user_tz": 240
    },
    "id": "DOXSGqtjQ_Lz",
    "outputId": "b6f0683b-de93-458c-9ba2-e6d13b56d109"
   },
   "outputs": [],
   "source": [
    "from datasets import Dataset\n",
    "from transformers import AutoTokenizer\n",
    "\n",
    "qa_en_train = Dataset.from_pandas(qa_en_train.reset_index(drop=True))\n",
    "qa_en_val = Dataset.from_pandas(qa_en_val.reset_index(drop=True))\n",
    "\n",
    "tokenizer = AutoTokenizer.from_pretrained(\"bert-base-uncased\")\n",
    "\n",
    "def tokenize_function(examples):\n",
    "    return tokenizer(\n",
    "        examples[\"question\"],\n",
    "        examples[\"context\"],\n",
    "        padding=\"max_length\",\n",
    "        truncation=True,\n",
    "        max_length=512\n",
    "    )\n",
    "\n",
    "qa_en_train = qa_en_train.map(tokenize_function, batched=True)\n",
    "qa_en_val = qa_en_val.map(tokenize_function, batched=True)\n",
    "\n"
   ]
  },
  {
   "cell_type": "code",
   "execution_count": null,
   "metadata": {
    "id": "MmJFD7BsRyxQ"
   },
   "outputs": [],
   "source": [
    "qa_en_train = qa_en_train.remove_columns([\"context\", \"question\", \"answer\"])\n",
    "qa_en_val = qa_en_val.remove_columns([\"context\", \"question\", \"answer\"])\n"
   ]
  },
  {
   "cell_type": "code",
   "execution_count": null,
   "metadata": {
    "colab": {
     "base_uri": "https://localhost:8080/"
    },
    "executionInfo": {
     "elapsed": 31,
     "status": "ok",
     "timestamp": 1746832563198,
     "user": {
      "displayName": "Michelle Chang",
      "userId": "15512863513129096251"
     },
     "user_tz": 240
    },
    "id": "5Y0a97W3Rie-",
    "outputId": "c50b45db-aa45-4b0a-c7a2-4d21adf736a4"
   },
   "outputs": [],
   "source": [
    "print(qa_en_train.column_names)\n",
    "print(qa_en_val.column_names)\n"
   ]
  },
  {
   "cell_type": "code",
   "execution_count": null,
   "metadata": {
    "id": "_oTM25dcR315"
   },
   "outputs": [],
   "source": [
    "qa_en_train = qa_en_train.rename_column(\"label\", \"labels\")\n",
    "qa_en_val = qa_en_val.rename_column(\"label\", \"labels\")"
   ]
  },
  {
   "cell_type": "code",
   "execution_count": null,
   "metadata": {
    "id": "6tDGWvNeWt33"
   },
   "outputs": [],
   "source": [
    "import evaluate\n",
    "import numpy as np\n",
    "\n",
    "exact_match = evaluate.load(\"exact_match\")\n",
    "rouge = evaluate.load(\"rouge\")\n",
    "\n",
    "def compute_metrics(eval_pred):\n",
    "    logits, labels = eval_pred\n",
    "    predictions = np.argmax(logits, axis=-1)\n",
    "\n",
    "    # Convert to strings for exact match and ROUGE\n",
    "    # Ensure the conversion keeps full text, not just IDs\n",
    "    preds_str = [str(p) for p in predictions]\n",
    "    labels_str = [str(l) for l in labels]\n",
    "\n",
    "    em = exact_match.compute(predictions=preds_str, references=labels_str)[\"exact_match\"]\n",
    "\n",
    "    rouge_scores = rouge.compute(predictions=preds_str, references=labels_str, use_stemmer=True)\n",
    "    rouge_l_fmeasure = rouge_scores[\"rougeL\"]\n",
    "\n",
    "    return {\n",
    "        \"exact_match\": em,\n",
    "        \"rouge_L\": (1- rouge_l_fmeasure)*2,\n",
    "    }\n"
   ]
  },
  {
   "cell_type": "code",
   "execution_count": null,
   "metadata": {
    "colab": {
     "base_uri": "https://localhost:8080/",
     "height": 190,
     "referenced_widgets": [
      "1f3fb2a1e1054077b3dde903c21e14c7",
      "2904af7f399c4400875bc14ea525a94c",
      "a352482d668b45968d62c6fbe02c0aea",
      "654e8db2afeb4c45ba97c81b680b0d2b",
      "c5b5ac717519436bbc4b758b7144f72e",
      "62bd2f92d3834aefba1a871a71eaaced",
      "33e500987a3f4ec69419aa5da9e3c497",
      "49e9a043c4104175b46dbb15327703d0",
      "54b5ab439d284e80a5d5f4db06a6900e",
      "654a39e0092c4baca26cb60290a06239",
      "049fac66c4d449b3937ce160e8269e66",
      "d72b9a6d6cb449ccb6938942a4397b4e",
      "34ed87cf02ba4c7f9466c3306f19e811",
      "ccda9909e20744669120381719b3637a",
      "de3b7cf732c54a2282718612f2c2da45",
      "b6c33a5585f245bf83d8d95a3f6c7c1e",
      "81da44809c364e8fb91fa9bd795e0326",
      "e22d439b90364429a3992a965b29fa65",
      "7551227d838b406ea93fdea552516036",
      "24cf2ba90be24cc6b612637f1454485e",
      "46eb01b309fb42f9817d0864dfb00f83",
      "4abb8a21d286481ea24603b9eb6c4f82"
     ]
    },
    "executionInfo": {
     "elapsed": 183269,
     "status": "ok",
     "timestamp": 1746832760578,
     "user": {
      "displayName": "Michelle Chang",
      "userId": "15512863513129096251"
     },
     "user_tz": 240
    },
    "id": "_DawhRgqPN1s",
    "outputId": "f07de033-6329-47df-e7b4-4fb4e3b9d7bc"
   },
   "outputs": [],
   "source": [
    "\n",
    "\n",
    "trainer2 = Trainer(\n",
    "    model=baseline_model,\n",
    "    args=training_args,\n",
    "    train_dataset=qa_en_train,\n",
    "    eval_dataset=qa_en_val,\n",
    "    tokenizer=tokenizer,\n",
    "    compute_metrics=compute_metrics,\n",
    ")\n",
    "\n",
    "\n",
    "trainer2.train()\n"
   ]
  },
  {
   "cell_type": "code",
   "execution_count": null,
   "metadata": {
    "id": "4ngOLkXtWv_E"
   },
   "outputs": [],
   "source": [
    "trainer2.compute_metrics = compute_metrics\n"
   ]
  },
  {
   "cell_type": "markdown",
   "metadata": {
    "id": "j6bxQLwSZxVt"
   },
   "source": [
    "The low exact match (0.00%) and ROUGE-L (9.26%) scores indicate that the model is struggling to align its predictions with the ground truth in the QA dataset. This suggests that the model is either not effectively capturing the context required to generate accurate answers or that there is a fundamental mismatch between the predicted spans and the true answer positions. A possible issue is that the context is being truncated due to a maximum token length limit, causing the correct answer to be partially or fully omitted, resulting in lower scores.\n",
    "\n",
    "\n",
    "\n",
    "\n",
    "\n",
    "\n",
    "\n",
    "\n",
    "\n"
   ]
  },
  {
   "cell_type": "code",
   "execution_count": null,
   "metadata": {
    "colab": {
     "base_uri": "https://localhost:8080/"
    },
    "executionInfo": {
     "elapsed": 3743,
     "status": "ok",
     "timestamp": 1746833945654,
     "user": {
      "displayName": "Michelle Chang",
      "userId": "15512863513129096251"
     },
     "user_tz": 240
    },
    "id": "mFna_ALK_ybH",
    "outputId": "9bddbe03-b179-4b3d-ca29-305ebe309c5f"
   },
   "outputs": [],
   "source": [
    "trainer2.evaluate(qa_datasets[\"test\"])"
   ]
  },
  {
   "cell_type": "code",
   "execution_count": null,
   "metadata": {
    "colab": {
     "base_uri": "https://localhost:8080/"
    },
    "executionInfo": {
     "elapsed": 3056,
     "status": "ok",
     "timestamp": 1746833949268,
     "user": {
      "displayName": "Michelle Chang",
      "userId": "15512863513129096251"
     },
     "user_tz": 240
    },
    "id": "Z99Jf_W1-K2-",
    "outputId": "84874d68-2a78-4991-c372-33fe905b4b24"
   },
   "outputs": [],
   "source": [
    "trainer2.evaluate(pt_qa_datasets[\"test\"])"
   ]
  },
  {
   "cell_type": "markdown",
   "metadata": {
    "id": "C3HjcQlP9iIG"
   },
   "source": [
    "<a id=\"results\"></a>\n",
    "# 5. Baseline Model Results Analysis"
   ]
  },
  {
   "cell_type": "markdown",
   "metadata": {
    "id": "3ZjDRVGWGrYW"
   },
   "source": [
    "We use several methods to analyze the baseline model's performance. The first is using a classification report, which shows how well the model identifies each class individually through precision, recall, and F1 score. This shows when datasets are imbalanced or if the model is favoring or missing certain classes. The F1 score gives us the harmonic mean of precision and recall, providing a balanced measure that considers both false positives and false negatives. This makes it particularly useful since our MCQA dataset has imbalanced classes of correct vs incorrect options."
   ]
  },
  {
   "cell_type": "code",
   "execution_count": null,
   "metadata": {
    "colab": {
     "base_uri": "https://localhost:8080/"
    },
    "executionInfo": {
     "elapsed": 16964,
     "status": "ok",
     "timestamp": 1746834552295,
     "user": {
      "displayName": "Michelle Chang",
      "userId": "15512863513129096251"
     },
     "user_tz": 240
    },
    "id": "ki7T3QmoUm30",
    "outputId": "b15fea60-00a0-4214-c682-7bb60ee7e0cd"
   },
   "outputs": [],
   "source": [
    "# Precision / Recall / F₁ Classification Report\n",
    "\n",
    "from sklearn.metrics import classification_report\n",
    "\n",
    "predictions = trainer.predict(mcqa_datasets[\"validation\"])\n",
    "y_true = predictions.label_ids\n",
    "y_pred = np.argmax(predictions.predictions, axis=1)\n",
    "\n",
    "unique_labels = np.unique(y_true)\n",
    "\n",
    "# label ids to names (assume 0 = \"incorrect\", 1 = \"correct\")\n",
    "all_target_names = [\"incorrect\", \"correct\"]\n",
    "present_target_names = [all_target_names[i] for i in unique_labels]\n",
    "\n",
    "print(\"=== Classification Report ===\")\n",
    "print(classification_report(\n",
    "    y_true,\n",
    "    y_pred,\n",
    "    labels=unique_labels.tolist(),  # only include present labels\n",
    "    target_names=present_target_names,\n",
    "    digits=4,\n",
    "    zero_division=0\n",
    "))\n",
    "\n"
   ]
  },
  {
   "cell_type": "markdown",
   "metadata": {
    "id": "xl07YwT8Gx2j"
   },
   "source": [
    "## Classification Report Observations\n",
    "Just as we had hypothesized above, this classification report indicates that the model has a high precision (0.8000) and recall (1.0000) for the \"incorrect\" class, resulting in a strong F1-score of 0.8889. However, it completely fails to identify the \"correct\" class, with a precision, recall, and F1-score of 0.0000, meaning it never correctly identifies a true positive for this class. This imbalance suggests the model has learned to always predict the dominant \"incorrect\" class, leading to a high overall accuracy (0.8000) but poor macro average (0.4444) and weighted average (0.7111) F1-scores, reflecting a significant bias in the model’s predictions.\n",
    "\n",
    "\n",
    "\n",
    "\n",
    "\n",
    "\n",
    "\n"
   ]
  },
  {
   "cell_type": "markdown",
   "metadata": {
    "id": "26jAG9w8GzvI"
   },
   "source": [
    "## Precision Recall Curve and PR-AUC\n",
    "\n",
    "The Precision–Recall curve looks in the trade-off between precision and recall. This is useful for imbalanced datasets where one class dominates, evaluating model quality when predicting minority classes compared to ROC curves."
   ]
  },
  {
   "cell_type": "code",
   "execution_count": null,
   "metadata": {
    "colab": {
     "base_uri": "https://localhost:8080/",
     "height": 487
    },
    "executionInfo": {
     "elapsed": 294,
     "status": "ok",
     "timestamp": 1746834655387,
     "user": {
      "displayName": "Michelle Chang",
      "userId": "15512863513129096251"
     },
     "user_tz": 240
    },
    "id": "h7fiwsevG2gf",
    "outputId": "5bef2732-77cd-4f29-e0af-7128c8aba80f"
   },
   "outputs": [],
   "source": [
    "# Precision–Recall Curve & PR-AUC\n",
    "\n",
    "from sklearn.metrics import precision_recall_curve, average_precision_score\n",
    "\n",
    "# get “positive” class probabilities (class 1 = “correct”)\n",
    "probs_pos = predictions.predictions[:, 1]\n",
    "precision, recall, pr_thresholds = precision_recall_curve(y_true, probs_pos)\n",
    "pr_auc = average_precision_score(y_true, probs_pos)\n",
    "\n",
    "plt.figure(figsize=(7, 5))\n",
    "plt.plot(recall, precision, label=f\"PR Curve (AUC = {pr_auc:.3f})\")\n",
    "plt.xlabel(\"Recall\")\n",
    "plt.ylabel(\"Precision\")\n",
    "plt.title(\"Baseline Model: Precision–Recall Curve\")\n",
    "plt.legend(loc=\"lower left\")\n",
    "plt.grid(True)\n",
    "plt.show()"
   ]
  },
  {
   "cell_type": "markdown",
   "metadata": {
    "id": "Gd4HfAt7G6f-"
   },
   "source": [
    "## Precision Recall Curve and PR-AUC Observations\n",
    " This PR curve here reinforces that the baseline model struggles significantly with identifying positive (correct) samples. The initial high precision at very low recall suggests that the model is confident but only for a very limited subset of positive cases, quickly dropping to a precision of around 0.2 as recall increases. This sharp decline indicates the model’s inability to maintain precision when attempting to capture a broader range of correct samples, reflecting poor generalization beyond its initial confident predictions. The low area under the curve (AUC = 0.198) further confirms that the model’s predictions are only marginally better than random guessing, indicating severe class imbalance or ineffective feature representation.\n",
    "\n",
    "This performance is likely driven by a combination of factors, including a highly imbalanced training set where incorrect examples dominate, potentially noisy or ambiguous labels, and inadequate tokenization that fails to capture meaningful context for the positive class. Given the steep drop-off in precision, the model may be effectively ignoring the positive class in favor of the more prevalent negative class, resulting in poor recall and underfitting for the minority class."
   ]
  },
  {
   "cell_type": "markdown",
   "metadata": {
    "id": "crnTQkMHG9Nb"
   },
   "source": [
    "## Calibration Plot\n",
    "\n",
    "Lastly, a calibration curve was attempted to evaluate whether the baseline model’s predicted probabilities actually match true outcomes to show the model’s confidence reliability. Logits were converted using a sigmoid function because raw model outputs are unbounded real numbers (as calibration needs probabilities from 0-1).\n"
   ]
  },
  {
   "cell_type": "code",
   "execution_count": null,
   "metadata": {
    "colab": {
     "base_uri": "https://localhost:8080/",
     "height": 487
    },
    "executionInfo": {
     "elapsed": 221,
     "status": "ok",
     "timestamp": 1746834743254,
     "user": {
      "displayName": "Michelle Chang",
      "userId": "15512863513129096251"
     },
     "user_tz": 240
    },
    "id": "9YYz1VkJHAP1",
    "outputId": "f8dc0dae-2630-431a-e93d-0a2e5bbb283a"
   },
   "outputs": [],
   "source": [
    "# Calibration (Reliability) Diagram\n",
    "from sklearn.calibration import calibration_curve\n",
    "import scipy.special\n",
    "\n",
    "# Convert logits -> probabilities\n",
    "probs_pos = scipy.special.expit(predictions.predictions[:, 1])\n",
    "\n",
    "# Get calibration curve\n",
    "prob_true, prob_pred = calibration_curve(y_true, probs_pos, n_bins=10)\n",
    "plt.figure(figsize=(7, 5))\n",
    "plt.plot(prob_pred, prob_true, \"s-\", label=\"Model\")\n",
    "plt.plot([0, 1], [0, 1], \"k--\", label=\"Perfectly calibrated\")\n",
    "plt.xlabel(\"Mean Predicted Probability\")\n",
    "plt.ylabel(\"Fraction of Positives\")\n",
    "plt.title(\"Baseline Model: Calibration Curve\")\n",
    "plt.legend()\n",
    "plt.grid(True)\n",
    "plt.show()\n"
   ]
  },
  {
   "cell_type": "markdown",
   "metadata": {
    "id": "XqUPX85tHFa7"
   },
   "source": [
    "## Calibration Plot Observations\n",
    "\n",
    "This calibration plot indicates that the baseline model is poorly calibrated, as its predictions are significantly overconfident at lower probability ranges. Ideally, a well-calibrated model's curve would closely follow the diagonal \"perfectly calibrated\" line, meaning the predicted probabilities accurately reflect the true likelihood of the positive class. However, this model's predictions cluster around low confidence scores (approximately 0.15 to 0.25), yet the actual fraction of positive samples is much lower than the predicted values, leading to systematic overestimation of positive outcomes.\n",
    "\n",
    "This miscalibration once again reflects the model's inability to distinguish between positive and negative samples, possibly due to class imbalance or poor feature representation in the training data."
   ]
  },
  {
   "cell_type": "markdown",
   "metadata": {
    "id": "BV1lfxEOLB0l"
   },
   "source": [
    "<a id=\"pipeline\"></a>\n",
    "# 6. Final Pipeline Data Preprocessing"
   ]
  },
  {
   "cell_type": "markdown",
   "metadata": {
    "id": "k2sxDRM9MNSX"
   },
   "source": [
    "### Back-Translation for Portuguese Question Augmentation\n",
    "\n",
    "To increase the linguistic diversity of the Portuguese questions in the Pirá dataset, we used **back-translation** as a form of data augmentation that we learned through [this Medium article](https://medium.com/data-science/data-augmentation-in-nlp-using-back-translation-with-marianmt-a8939dfea50a). The goal was to generate paraphrased versions of the original questions that maintain their meaning while varying the phrasing and vocabulary.\n",
    "\n",
    "We used the [MarianMT models from Helsinki-NLP](https://huggingface.co/Helsinki-NLP/opus-mt-tc-big-en-pt), loading both the Portuguese-to-English (`pt-en`) and English-to-Portuguese (`en-pt`) variants. Each question was translated in batches using the Hugging Face Transformers library, leveraging GPU acceleration when available.\n",
    "\n",
    "This process produced a new column of **backtranslated questions** (`bt_question`), which we saved alongside the original data. The result is a richer training set that exposes our QA models to a wider range of phrasings, improving their ability to generalize."
   ]
  },
  {
   "cell_type": "code",
   "execution_count": null,
   "metadata": {
    "colab": {
     "base_uri": "https://localhost:8080/"
    },
    "executionInfo": {
     "elapsed": 14316,
     "status": "ok",
     "timestamp": 1746591286884,
     "user": {
      "displayName": "M S",
      "userId": "11397028202230619793"
     },
     "user_tz": 240
    },
    "id": "9FkfDCU6iK9d",
    "outputId": "a3540c07-37ff-46a1-90d0-4c900019559e"
   },
   "outputs": [],
   "source": [
    "# Load MarianMT models and tokenizers\n",
    "model_name = 'Helsinki-NLP/opus-mt-tc-big-en-pt'\n",
    "tokenizer_pt_en = MarianTokenizer.from_pretrained(model_name)\n",
    "model_pt_en = MarianMTModel.from_pretrained(model_name)\n",
    "\n",
    "tokenizer_en_pt = MarianTokenizer.from_pretrained(model_name)\n",
    "model_en_pt = MarianMTModel.from_pretrained(model_name)\n",
    "\n",
    "device = torch.device(\"cuda\" if torch.cuda.is_available() else \"cpu\")\n",
    "model_pt_en.to(device)\n",
    "model_en_pt.to(device)\n",
    "\n",
    "# Translation helper\n",
    "def translate_batch(texts, tokenizer, model, batch_size=16):\n",
    "    all_translations = []\n",
    "    for i in range(0, len(texts), batch_size):\n",
    "        batch = texts[i:i+batch_size]\n",
    "        inputs = tokenizer(batch, return_tensors=\"pt\", padding=True, truncation=True).to(device)\n",
    "        outputs = model.generate(**inputs)\n",
    "        decoded = tokenizer.batch_decode(outputs, skip_special_tokens=True)\n",
    "        all_translations.extend(decoded)\n",
    "    return all_translations\n",
    "\n",
    "# Backtranslate and save if needed\n",
    "def backtranslate_if_needed(df, output_file, question_column=\"question\", new_column=\"bt_question\"):\n",
    "    if os.path.exists(output_file):\n",
    "        print(f\"Skipping: {output_file} already exists.\")\n",
    "        return pd.read_csv(output_file)\n",
    "\n",
    "    print(f\"Backtranslating: {output_file}\")\n",
    "    pt_questions = df[question_column].fillna(\"\").astype(str).tolist()\n",
    "    en = translate_batch(pt_questions, tokenizer_pt_en, model_pt_en)\n",
    "    bt = translate_batch(en, tokenizer_en_pt, model_en_pt)\n",
    "    df[new_column] = bt\n",
    "    df.to_csv(output_file, index=False)\n",
    "    print(f\"Saved to: {output_file}\\n\")\n",
    "    return df\n",
    "\n",
    "# Run for train/val/test\n",
    "qa_pt_train = backtranslate_if_needed(qa_pt_train, \"qa_pt_train_backtranslated.csv\")\n",
    "qa_pt_val   = backtranslate_if_needed(qa_pt_val,   \"qa_pt_val_backtranslated.csv\")\n",
    "qa_pt_test  = backtranslate_if_needed(qa_pt_test,  \"qa_pt_test_backtranslated.csv\")"
   ]
  },
  {
   "cell_type": "markdown",
   "metadata": {
    "id": "PBVN7gIdyhMS"
   },
   "source": [
    "<a id=\"pipeline\"></a>\n",
    "# 6. Final Pipeline Setup"
   ]
  },
  {
   "cell_type": "markdown",
   "metadata": {
    "id": "zR64Lx7Ay3dD"
   },
   "source": [
    "Our dataset has both QA and MCQ data as discussed above. The model flowcharts for both QA and MCQ approaches can be found below."
   ]
  },
  {
   "cell_type": "markdown",
   "metadata": {
    "id": "9QLNKWdCylhg"
   },
   "source": [
    "![Screenshot 2025-05-09 at 21.23.49.png](data:image/png;base64,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)"
   ]
  },
  {
   "cell_type": "markdown",
   "metadata": {
    "id": "27XNNGV-LpFp"
   },
   "source": [
    "<a id=\"qa\"></a>\n",
    "# 7. QA Final Models"
   ]
  },
  {
   "cell_type": "markdown",
   "metadata": {
    "id": "MbzhaEKcZKOF"
   },
   "source": [
    "## Extractive QA with Cross-Lingual BiLSTM and fastText Projection\n",
    "\n",
    "In our first modeling attempt, we designed an **extractive question answering model** to answer **Portuguese questions** using **English contexts**. The goal was to train a model capable of predicting the **start and end token indices** of the correct answer span within the English context, given a Portuguese input question.\n",
    "\n",
    "### Model Architecture\n",
    "\n",
    "We implemented a **bidirectional LSTM (BiLSTM)** for extractive QA, trained to predict the span of the answer using softmax over the token positions. The architecture includes:\n",
    "\n",
    "* **Embedding dimension**: 300 (from pre-trained fastText vectors)\n",
    "* **Hidden size**: 128\n",
    "* **Layers**: 1 BiLSTM layer\n",
    "* **Start/end heads**: Two fully connected linear layers on top of the BiLSTM hidden states\n",
    "* **Loss function**: Cross-entropy loss on start and end indices\n",
    "* **Optimizer**: Adam, learning rate 2e-4\n",
    "* **Early stopping**: patience of 2 epochs\n",
    "\n",
    "### Cross-Lingual Strategy\n",
    "\n",
    "Since the questions are in Portuguese and the contexts are in English, we used a **projection-based method** to align them into a common semantic space:\n",
    "\n",
    "1. **fastText embeddings**: Loaded English (`cc.en.300.vec`) and Portuguese (`cc.pt.300.vec`) word embeddings.\n",
    "2. **Locally Linear Mapping (LLM)**: For each token in a Portuguese question, we projected it into English space by computing a weighted average of its top-5 nearest English neighbors.\n",
    "3. **Input construction**: Each input sequence was formed as:\n",
    "   `[projected Portuguese question] + [SEP token] + [English context]`,\n",
    "   and fed into the BiLSTM as a sequence of 300-dimensional vectors.\n",
    "\n",
    "### Data Preparation\n",
    "\n",
    "We used the Pirá dataset (backtranslated variant), specifically:\n",
    "\n",
    "* `context`: English text\n",
    "* `bt_question`: Portuguese question, backtranslated for variation\n",
    "* `answer`: English answer\n",
    "* `answer_start`: computed using string matching to ensure extractiveness\n",
    "\n",
    "We filtered examples where the answer string could be located within the context using exact string matching. However, this did not guarantee that the answer was a semantically appropriate span for the question. Many matches were partial, vague, or contextually incomplete. This inconsistency limited the effectiveness of our extractive QA model, despite technical compatibility with span-based supervision.\n",
    "\n",
    "Final dataset sizes:\n",
    "\n",
    "* **Train**: 124 aligned examples\n",
    "* **Validation**: 17 examples\n",
    "* **Test**: 17 examples"
   ]
  },
  {
   "cell_type": "code",
   "execution_count": null,
   "metadata": {
    "colab": {
     "base_uri": "https://localhost:8080/",
     "height": 867
    },
    "executionInfo": {
     "elapsed": 16388,
     "status": "ok",
     "timestamp": 1746585478080,
     "user": {
      "displayName": "Miranda Shen",
      "userId": "12897031490528570632"
     },
     "user_tz": 240
    },
    "id": "6bVdFZXg_aUB",
    "outputId": "dd106361-27a8-4090-bdf8-7d3605de2a28"
   },
   "outputs": [],
   "source": [
    "!pip install --upgrade --force-reinstall numpy gensim\n",
    "\n",
    "# Restart the kernel after this!"
   ]
  },
  {
   "cell_type": "code",
   "execution_count": null,
   "metadata": {
    "id": "08-vO3Ln0joT"
   },
   "outputs": [],
   "source": [
    "# Re-import everything after restarting the kernel!\n",
    "\n",
    "import pandas as pd\n",
    "import os\n",
    "from datasets import Dataset\n",
    "from transformers import AutoTokenizer\n",
    "import gc\n",
    "import psutil\n",
    "import matplotlib.pyplot as plt\n",
    "import numpy as np\n",
    "import nltk\n",
    "from nltk.corpus import stopwords\n",
    "import re\n",
    "from collections import Counter\n",
    "from unidecode import unidecode\n",
    "import ast\n",
    "from sklearn.feature_extraction.text import TfidfVectorizer\n",
    "from sklearn.decomposition import PCA\n",
    "from sklearn.cluster import KMeans\n",
    "import matplotlib.pyplot as plt\n",
    "import seaborn as sns\n",
    "from datasets import Dataset, DatasetDict\n",
    "from wordcloud import WordCloud, STOPWORDS\n",
    "import string\n",
    "import deepl\n",
    "\n",
    "from transformers import MarianMTModel, MarianTokenizer\n",
    "import torch\n",
    "import torch.nn as nn\n",
    "from torch.utils.data import DataLoader, TensorDataset\n",
    "from gensim.models import KeyedVectors\n",
    "from sklearn.neighbors import NearestNeighbors\n",
    "import evaluate\n",
    "\n",
    "\n",
    "from transformers import (\n",
    "    T5Tokenizer, T5ForConditionalGeneration,\n",
    "    Trainer, TrainingArguments\n",
    ")\n",
    "\n",
    "from transformers import pipeline"
   ]
  },
  {
   "cell_type": "code",
   "execution_count": null,
   "metadata": {
    "colab": {
     "base_uri": "https://localhost:8080/"
    },
    "executionInfo": {
     "elapsed": 1285211,
     "status": "ok",
     "timestamp": 1746592786637,
     "user": {
      "displayName": "M S",
      "userId": "11397028202230619793"
     },
     "user_tz": 240
    },
    "id": "BZYVZ8aZBwqe",
    "outputId": "f9513362-40f2-4955-d979-15c69d34ac26"
   },
   "outputs": [],
   "source": [
    "# Download English and Portuguese fastText embeddings (300-dimensional)\n",
    "!wget https://dl.fbaipublicfiles.com/fasttext/vectors-crawl/cc.en.300.vec.gz\n",
    "!wget https://dl.fbaipublicfiles.com/fasttext/vectors-crawl/cc.pt.300.vec.gz\n",
    "\n",
    "# Unzip them\n",
    "!gunzip cc.en.300.vec.gz\n",
    "!gunzip cc.pt.300.vec.gz\n",
    "\n",
    "!pip install --upgrade numpy gensim\n",
    "\n",
    "import gensim\n",
    "\n",
    "# Load English embeddings\n",
    "en_embeddings = gensim.models.KeyedVectors.load_word2vec_format(\"cc.en.300.vec\", binary=False)\n",
    "\n",
    "# Load Portuguese embeddings\n",
    "pt_embeddings = gensim.models.KeyedVectors.load_word2vec_format(\"cc.pt.300.vec\", binary=False)\n",
    "\n",
    "en_embeddings.save(\"cc.en.300.kv\")\n",
    "pt_embeddings.save(\"cc.pt.300.kv\")"
   ]
  },
  {
   "cell_type": "code",
   "execution_count": null,
   "metadata": {
    "id": "a2VoaZ_KnBjm"
   },
   "outputs": [],
   "source": [
    "# Re-load the data after restarting the kernel!\n",
    "\n",
    "qa_pt_train = pd.read_csv(\"qa_pt_train_backtranslated.csv\")\n",
    "qa_pt_val   = pd.read_csv(\"qa_pt_val_backtranslated.csv\")\n",
    "qa_pt_test  = pd.read_csv(\"qa_pt_test_backtranslated.csv\")\n",
    "\n",
    "# Load fastText embeddings\n",
    "en_embeddings = KeyedVectors.load(\"cc.en.300.kv\", mmap='r')\n",
    "pt_embeddings = KeyedVectors.load(\"cc.pt.300.kv\", mmap='r')\n",
    "\n",
    "# kNN for PT → EN projection\n",
    "english_vocab = list(en_embeddings.key_to_index.keys())\n",
    "english_matrix = np.vstack([en_embeddings[word] for word in english_vocab[:50000]])\n",
    "knn = NearestNeighbors(n_neighbors=5).fit(english_matrix)"
   ]
  },
  {
   "cell_type": "code",
   "execution_count": null,
   "metadata": {
    "colab": {
     "base_uri": "https://localhost:8080/"
    },
    "executionInfo": {
     "elapsed": 177478,
     "status": "ok",
     "timestamp": 1746592979564,
     "user": {
      "displayName": "M S",
      "userId": "11397028202230619793"
     },
     "user_tz": 240
    },
    "id": "X6BsOlh_l8bH",
    "outputId": "2e1dde9f-d4e1-4549-f6b4-2613acbd3ba5"
   },
   "outputs": [],
   "source": [
    "# Tokenization and projection utilities\n",
    "def tokenize(text):\n",
    "    return text.lower().split()\n",
    "\n",
    "def embed_tokens(tokens, embeddings, dim=300):\n",
    "    return np.array([embeddings[word] if word in embeddings else np.zeros(dim) for word in tokens])\n",
    "\n",
    "def project_pt_question_to_en_space(pt_question):\n",
    "    words = tokenize(pt_question)\n",
    "    projected = []\n",
    "    for word in words:\n",
    "        if word not in pt_embeddings:\n",
    "            continue\n",
    "        pt_vec = pt_embeddings[word].reshape(1, -1)\n",
    "        distances, indices = knn.kneighbors(pt_vec)\n",
    "        neighbors = [english_vocab[i] for i in indices[0]]\n",
    "        weights = 1 / (distances + 1e-6)\n",
    "        weights /= weights.sum()\n",
    "        vec = sum(weights[0][i] * en_embeddings[neighbors[i]] for i in range(len(neighbors)))\n",
    "        projected.append(vec)\n",
    "    return np.array(projected)\n",
    "\n",
    "def char_to_token_indices(context, answer, answer_start):\n",
    "    tokens = tokenize(context)\n",
    "    current_char = 0\n",
    "    start_token = end_token = None\n",
    "    for i, token in enumerate(tokens):\n",
    "        token_start = context.find(token, current_char)\n",
    "        token_end = token_start + len(token)\n",
    "        current_char = token_end\n",
    "        if start_token is None and token_start <= answer_start < token_end:\n",
    "            start_token = i\n",
    "        if token_start < answer_start + len(answer) <= token_end:\n",
    "            end_token = i\n",
    "            break\n",
    "    return start_token, end_token\n",
    "\n",
    "def compute_answer_start(df):\n",
    "    df = df.copy()\n",
    "    answer_starts = []\n",
    "    valid_rows = []\n",
    "\n",
    "    for i, row in df.iterrows():\n",
    "        context = str(row[\"context\"])\n",
    "        answer = str(row[\"answer\"]).strip()\n",
    "        start_idx = context.find(answer)\n",
    "        if start_idx != -1 and context[start_idx:start_idx + len(answer)].strip() == answer:\n",
    "            answer_starts.append(start_idx)\n",
    "            valid_rows.append(i)\n",
    "\n",
    "    df = df.loc[valid_rows].reset_index(drop=True)\n",
    "    df[\"answer_start\"] = answer_starts\n",
    "    print(f\"Found valid answer spans in {len(df)} rows.\")\n",
    "    return df\n",
    "\n",
    "qa_pt_train = compute_answer_start(qa_pt_train)\n",
    "qa_pt_val   = compute_answer_start(qa_pt_val)\n",
    "qa_pt_test  = compute_answer_start(qa_pt_test)\n",
    "\n",
    "# Preprocess QA datasets\n",
    "def preprocess(df_slice):\n",
    "    X, y_start, y_end = [], [], []\n",
    "    for _, row in df_slice.iterrows():\n",
    "        q_vecs = project_pt_question_to_en_space(row[\"bt_question\"])\n",
    "        if q_vecs.size == 0:\n",
    "            continue  # Skip this sample if no valid projected question vectors\n",
    "\n",
    "        c_vecs = embed_tokens(tokenize(row[\"context\"]), en_embeddings)\n",
    "        full_input = np.vstack([q_vecs, np.zeros((1, 300)), c_vecs])\n",
    "\n",
    "        s_idx, e_idx = char_to_token_indices(row[\"context\"], row[\"answer\"], row[\"answer_start\"])\n",
    "        if s_idx is not None and e_idx is not None:\n",
    "            X.append(full_input)\n",
    "            y_start.append(len(q_vecs) + 1 + s_idx)\n",
    "            y_end.append(len(q_vecs) + 1 + e_idx)\n",
    "    return X, y_start, y_end\n",
    "\n",
    "# Preprocess datasets\n",
    "X_train, y_train_start, y_train_end = preprocess(qa_pt_train)\n",
    "X_val, y_val_start, y_val_end = preprocess(qa_pt_val)\n",
    "X_test, y_test_start, y_test_end = preprocess(qa_pt_test)\n",
    "\n",
    "# Padding\n",
    "max_len = max(max(len(x) for x in X_train), max(len(x) for x in X_val + X_test))\n",
    "def pad_sequences(X, max_len):\n",
    "    return np.array([np.pad(x, ((0, max_len - len(x)), (0, 0))) for x in X])\n",
    "\n",
    "X_train_tensor = torch.tensor(pad_sequences(X_train, max_len), dtype=torch.float32)\n",
    "y_train_start_tensor = torch.tensor(y_train_start, dtype=torch.long)\n",
    "y_train_end_tensor = torch.tensor(y_train_end, dtype=torch.long)\n",
    "\n",
    "X_val_tensor = torch.tensor(pad_sequences(X_val, max_len), dtype=torch.float32)\n",
    "y_val_start_tensor = torch.tensor(y_val_start, dtype=torch.long)\n",
    "y_val_end_tensor = torch.tensor(y_val_end, dtype=torch.long)\n",
    "\n",
    "X_test_tensor = torch.tensor(pad_sequences(X_test, max_len), dtype=torch.float32)\n",
    "y_test_start_tensor = torch.tensor(y_test_start, dtype=torch.long)\n",
    "y_test_end_tensor = torch.tensor(y_test_end, dtype=torch.long)\n",
    "\n",
    "train_loader = DataLoader(TensorDataset(X_train_tensor, y_train_start_tensor, y_train_end_tensor), batch_size=16, shuffle=True)"
   ]
  },
  {
   "cell_type": "code",
   "execution_count": null,
   "metadata": {
    "colab": {
     "base_uri": "https://localhost:8080/",
     "height": 864
    },
    "executionInfo": {
     "elapsed": 109212,
     "status": "ok",
     "timestamp": 1746589806178,
     "user": {
      "displayName": "Miranda Shen",
      "userId": "12897031490528570632"
     },
     "user_tz": 240
    },
    "id": "yxNne7ndmAdh",
    "outputId": "a825d740-b2b9-414a-ff3d-36f12b2786a9"
   },
   "outputs": [],
   "source": [
    "# BiLSTM Model\n",
    "class BiLSTM_QA(nn.Module):\n",
    "    def __init__(self, embedding_dim=300, hidden_size=128):\n",
    "        super().__init__()\n",
    "        self.lstm = nn.LSTM(embedding_dim, hidden_size, batch_first=True, bidirectional=True)\n",
    "        self.fc_start = nn.Linear(hidden_size * 2, 1)\n",
    "        self.fc_end = nn.Linear(hidden_size * 2, 1)\n",
    "\n",
    "    def forward(self, x):\n",
    "        lstm_out, _ = self.lstm(x)\n",
    "        return self.fc_start(lstm_out).squeeze(-1), self.fc_end(lstm_out).squeeze(-1)\n",
    "\n",
    "# Instantiate model, loss, optimizer\n",
    "model = BiLSTM_QA()\n",
    "optimizer = torch.optim.Adam(model.parameters(), lr=2e-4)\n",
    "criterion = nn.CrossEntropyLoss()\n",
    "\n",
    "# Training params\n",
    "best_val_loss = float(\"inf\")\n",
    "patience = 2\n",
    "wait = 0\n",
    "num_epochs = 20\n",
    "\n",
    "# Track loss for plotting\n",
    "train_losses = []\n",
    "val_losses = []\n",
    "\n",
    "# Training loop\n",
    "model.train()\n",
    "for epoch in range(num_epochs):\n",
    "    total_loss = 0\n",
    "    for batch_x, batch_y_start, batch_y_end in train_loader:\n",
    "        optimizer.zero_grad()\n",
    "        start_logits, end_logits = model(batch_x)\n",
    "        loss = criterion(start_logits, batch_y_start) + criterion(end_logits, batch_y_end)\n",
    "        loss.backward()\n",
    "        optimizer.step()\n",
    "        total_loss += loss.item()\n",
    "\n",
    "    # Validation step\n",
    "    model.eval()\n",
    "    with torch.no_grad():\n",
    "        val_start_logits, val_end_logits = model(X_val_tensor)\n",
    "        val_loss = criterion(val_start_logits, y_val_start_tensor) + criterion(val_end_logits, y_val_end_tensor)\n",
    "        val_loss = val_loss.item()\n",
    "\n",
    "    # Print + Log\n",
    "    print(f\"Epoch {epoch+1} — Train Loss: {total_loss:.4f} | Val Loss: {val_loss:.4f}\")\n",
    "    train_losses.append(total_loss)\n",
    "    val_losses.append(val_loss)\n",
    "\n",
    "    # Early stopping\n",
    "    if val_loss < best_val_loss:\n",
    "        best_val_loss = val_loss\n",
    "        wait = 0\n",
    "        best_model_state = model.state_dict()\n",
    "    else:\n",
    "        wait += 1\n",
    "        if wait >= patience:\n",
    "            print(f\"Early stopping triggered at epoch {epoch+1}.\")\n",
    "            break\n",
    "    model.train()\n",
    "\n",
    "# Load best model\n",
    "model.load_state_dict(best_model_state)\n",
    "\n",
    "# Plot training and validation loss\n",
    "plt.figure(figsize=(8, 5))\n",
    "plt.plot(range(1, len(train_losses) + 1), train_losses, label=\"Train Loss\")\n",
    "plt.plot(range(1, len(val_losses) + 1), val_losses, label=\"Validation Loss\")\n",
    "plt.xlabel(\"Epoch\")\n",
    "plt.ylabel(\"Loss\")\n",
    "plt.title(\"BiLSTM Training vs. Validation Loss\")\n",
    "plt.legend()\n",
    "plt.grid(True)\n",
    "plt.tight_layout()\n",
    "plt.show()"
   ]
  },
  {
   "cell_type": "markdown",
   "metadata": {
    "id": "xY4XdVjL1az9"
   },
   "source": [
    "### Training Curve Analysis\n",
    "\n",
    "The figure above shows the training and validation loss curves for the BiLSTM extractive QA model over 20 epochs.\n",
    "\n",
    "#### Key Observations\n",
    "\n",
    "* **Training loss** steadily decreases from \\~105 to \\~80, indicating the model is fitting the training data.\n",
    "* **Validation loss** initially improves (from \\~13 to \\~9.5) but begins to plateau around epoch 8.\n",
    "* The validation loss does not begin to rise despite continued training.\n",
    "\n",
    "#### Limitations\n",
    "\n",
    "The most significant limitation in this extractive QA setup is the **small and constrained dataset**. After filtering for examples where the answer appeared verbatim in the context (a requirement for span-based supervision), only:\n",
    "\n",
    "* **126 training examples**\n",
    "* **17 validation examples**\n",
    "* **17 test examples**\n",
    "\n",
    "were retained across the full dataset.\n",
    "\n",
    "This extremely limited sample size offers insufficient coverage of question types, linguistic variation, and contextual complexity. As a result:\n",
    "\n",
    "* The model likely **memorizes superficial patterns** rather than learning generalizable alignment between questions and answer spans.\n",
    "* The **validation loss plateaus early**, suggesting that the model reaches its learning ceiling within the first few epochs.\n",
    "* Even when the answer is technically present in the context, its **location or phrasing may not form a clean extractive span**, weakening the connection between supervision and model objective.\n",
    "\n",
    "In short, the combination of **limited quantity** and **noisy extractiveness** undermines the viability of extractive QA in this setting."
   ]
  },
  {
   "cell_type": "code",
   "execution_count": null,
   "metadata": {
    "colab": {
     "base_uri": "https://localhost:8080/"
    },
    "executionInfo": {
     "elapsed": 4972,
     "status": "ok",
     "timestamp": 1746589811166,
     "user": {
      "displayName": "Miranda Shen",
      "userId": "12897031490528570632"
     },
     "user_tz": 240
    },
    "id": "twHMtmS_mELl",
    "outputId": "fe8d5e61-1a8b-4c7e-ff36-6f5c0be22e20"
   },
   "outputs": [],
   "source": [
    "# Load best model and evaluate on test\n",
    "model.load_state_dict(best_model_state)\n",
    "model.eval()\n",
    "with torch.no_grad():\n",
    "    start_logits, end_logits = model(X_test_tensor)\n",
    "    pred_start = torch.argmax(start_logits, dim=1).numpy()\n",
    "    pred_end = torch.argmax(end_logits, dim=1).numpy()\n",
    "\n",
    "print(f\"\\nFINAL TEST EVALUATION:\")\n",
    "print(f\"Train examples aligned: {len(X_train)} / {len(qa_pt_train)}\")\n",
    "print(f\"Val examples aligned: {len(X_val)} / {len(qa_pt_val)}\")\n",
    "print(f\"Test examples aligned: {len(X_test)} / {len(qa_pt_test)}\")\n",
    "\n",
    "# Load metric\n",
    "rouge = evaluate.load(\"rouge\")\n",
    "\n",
    "# Decode predicted answers\n",
    "def decode_answer(context, question, start_idx, end_idx):\n",
    "    context_tokens = tokenize(context)\n",
    "    question_tokens = tokenize(question)\n",
    "    offset = len(question_tokens) + 1  # [SEP]\n",
    "    if start_idx >= offset and end_idx >= offset and start_idx <= end_idx:\n",
    "        start = start_idx - offset\n",
    "        end = end_idx - offset + 1\n",
    "        return \" \".join(context_tokens[start:end])\n",
    "    return \"[Invalid span]\"\n",
    "\n",
    "def compute_f1(pred, truth):\n",
    "    pred_tokens = set(pred.lower().split())\n",
    "    truth_tokens = set(truth.lower().split())\n",
    "    common = pred_tokens & truth_tokens\n",
    "    if not common:\n",
    "        return 0.0\n",
    "    precision = len(common) / len(pred_tokens)\n",
    "    recall = len(common) / len(truth_tokens)\n",
    "    return 2 * (precision * recall) / (precision + recall)\n",
    "\n",
    "def compute_em(pred, truth):\n",
    "    return int(pred.strip().lower() == truth.strip().lower())\n",
    "\n",
    "# Evaluate predictions\n",
    "predictions = []\n",
    "for i in range(len(qa_pt_test)):\n",
    "    pred = decode_answer(\n",
    "        qa_pt_test.iloc[i][\"context\"],\n",
    "        qa_pt_test.iloc[i][\"bt_question\"],\n",
    "        pred_start[i],\n",
    "        pred_end[i]\n",
    "    )\n",
    "    predictions.append(pred)\n",
    "\n",
    "references = qa_pt_test[\"answer\"].astype(str).tolist()\n",
    "qa_pt_test[\"predicted_answer\"] = predictions\n",
    "\n",
    "# Compute per-example ROUGE-L\n",
    "rouge_l_scores = []\n",
    "for pred, ref in zip(predictions, references):\n",
    "    score = rouge.compute(predictions=[pred], references=[ref], use_stemmer=True)\n",
    "    rouge_l_scores.append(score[\"rougeL\"])\n",
    "qa_pt_test[\"rougeL\"] = rouge_l_scores\n",
    "\n",
    "# Print results\n",
    "print(f\"\\nROUGE-L (avg): {qa_pt_test['rougeL'].mean():.2%}\")\n",
    "\n",
    "# Show top and bottom 3\n",
    "print(\"\\nTOP PREDICTIONS (ROUGE-L):\")\n",
    "for _, row in qa_pt_test.sort_values(\"rougeL\", ascending=False).head(3).iterrows():\n",
    "    print(f\"Q: {row['bt_question']}\")\n",
    "    print(f\"T: {row['answer']}\")\n",
    "    print(f\"P: {row['predicted_answer']}\")\n",
    "    print(f\"ROUGE-L: {row['rougeL']:.2%}\")\n",
    "    print(\"-\" * 60)\n",
    "\n",
    "print(\"\\nBOTTOM PREDICTIONS (ROUGE-L):\")\n",
    "for _, row in qa_pt_test.sort_values(\"rougeL\").head(3).iterrows():\n",
    "    print(f\"Q: {row['bt_question']}\")\n",
    "    print(f\"T: {row['answer']}\")\n",
    "    print(f\"P: {row['predicted_answer']}\")\n",
    "    print(f\"ROUGE-L: {row['rougeL']:.2%}\")\n",
    "    print(\"-\" * 60)\n",
    "\n",
    "f1_scores = []\n",
    "em_scores = []\n",
    "\n",
    "for pred, truth in zip(qa_pt_test[\"predicted_answer\"], qa_pt_test[\"answer\"]):\n",
    "    f1_scores.append(compute_f1(pred, truth))\n",
    "    em_scores.append(compute_em(pred, truth))\n",
    "\n",
    "qa_pt_test[\"f1\"] = f1_scores\n",
    "qa_pt_test[\"exact_match\"] = em_scores\n",
    "\n",
    "print(f\"F1 (avg): {qa_pt_test['f1'].mean():.2%}\")\n",
    "print(f\"Exact Match (avg): {qa_pt_test['exact_match'].mean():.2%}\")"
   ]
  },
  {
   "cell_type": "markdown",
   "metadata": {
    "id": "qS4TE6L9giBs"
   },
   "source": [
    "### Evaluation Metrics\n",
    "\n",
    "To assess our extractive QA model’s performance, we evaluated predictions on the test set using both **span-based decoding** and **semantic similarity metrics**:\n",
    "\n",
    "* **ROUGE-L**: Captures phrase-level overlap by computing the longest common subsequence between predicted and reference answers.\n",
    "* **F1 Score**: Measures token-level precision and recall between the predicted span and the gold answer.\n",
    "* **Exact Match (EM)**: Indicates whether the predicted span exactly matches the reference answer.\n",
    "* **Span Decoding**: Converts predicted start and end indices into a textual answer span from the context.\n",
    "\n",
    "### Performance and Observations\n",
    "\n",
    "Despite effective training loss convergence over 20 epochs, the model’s performance on the test set remained very weak:\n",
    "\n",
    "| Metric            | Score |\n",
    "| ----------------- | ----- |\n",
    "| **ROUGE-L (avg)** | 3.48% |\n",
    "| **F1 Score**      | 3.67% |\n",
    "| **Exact Match**   | 0.00% |\n",
    "\n",
    "Predictions commonly suffered from the following failure modes:\n",
    "\n",
    "* **Trivial spans**: Outputs were often single stopwords or function words (e.g., “de”, “em”, “por”).\n",
    "* **Invalid indices**: Several predictions returned `[Invalid span]` due to reversed or out-of-bound start/end positions.\n",
    "* **Semantic mismatch**: Many predicted spans bore no meaningful relation to the question, despite superficial string overlap.\n",
    "\n",
    "Even the best predictions barely surpassed **25–30% ROUGE-L**, with most clustering near zero. Notably, the highest scoring predictions tended to capture **lexical fragments** but not the full meaning of the reference answers.\n",
    "\n",
    "#### Example Predictions\n",
    "\n",
    "| Question                                                                               | Predicted Answer      | Ground Truth                                              | ROUGE-L |\n",
    "| -------------------------------------------------------------------------------------- | --------------------- | --------------------------------------------------------- | ------- |\n",
    "| \"a localização do campo de albacora goe.\"                                              | \"em meados de\"        | \"na bacia de campos.\"                                     | 28.57%  |\n",
    "| \"o que edison lobao, o ministro de energia, disse sobre a revisão da lei do petróleo?\" | *long off-topic span* | \"que as mudanças serão projetadas...\"                     | 17.86%  |\n",
    "| \"do que é constituído o núcleo do sistema de produção eth-ipb?\"                        | \"de 27\"               | \"um tubo flexível de 6 id dedicado ao fluido de produção\" | 9.52%   |\n",
    "| \"por que a produção de mariscos é impactada...\"                                        | `[Invalid span]`      | \"a acidificação não é distribuída uniformemente\"          | 0.00%   |\n",
    "| \"quais empresas colaboraram com a petrobras...\"                                        | \"em\"                  | \"tronic, reda, pirelli...\"                                | 0.00%   |\n",
    "\n",
    "### Conclusion\n",
    "\n",
    "While the model successfully minimized training loss, it failed to learn meaningful span extraction — largely due to **inherent weaknesses in the dataset**:\n",
    "\n",
    "* Many answers are **not reliably extractive**, even when they appear as substrings.\n",
    "* Answers are often **paraphrased, fragmented**, or spread across multiple sentences.\n",
    "* The training set is **very small** (only 124 aligned examples), limiting generalization.\n",
    "\n",
    "These results suggest that **extractive modeling is ill-suited** for this QA setup. Given the dataset's characteristics, we transitioned to a **generative QA framework**, which is better equipped to handle loosely aligned, free-form answer text without requiring rigid span boundaries."
   ]
  },
  {
   "cell_type": "markdown",
   "metadata": {
    "id": "CrjrrNHfhSmU"
   },
   "source": [
    "## Generative QA with T5 Fine-Tuning on Backtranslated Portuguese Questions\n",
    "\n",
    "Following the limitations of our extractive QA model, we transitioned to a **generative question answering approach**. This allowed the model to produce **fluent free-text answers** instead of relying on exact spans from the context — a better fit for the Pirá dataset, where many answers are paraphrased or distributed across multiple sentences.\n",
    "\n",
    "### Model Architecture\n",
    "\n",
    "We fine-tuned a **pretrained sequence-to-sequence model**, [`unicamp-dl/ptt5-base-portuguese-vocab`](https://huggingface.co/unicamp-dl/ptt5-base-portuguese-vocab), a T5 model specifically trained on **Portuguese corpora**. This model supports both comprehension of Portuguese questions and generation of answers in fluent Portuguese.\n",
    "\n",
    "* **Base model**: `ptt5-base-portuguese-vocab`\n",
    "* **Max input length**: 512 tokens\n",
    "* **Max target length**: 64 tokens\n",
    "* **Batch size**: 8\n",
    "* **Epochs**: 5\n",
    "* **Optimizer**: AdamW (via Hugging Face `Trainer`)\n",
    "* **Loss**: Cross-entropy loss over generated tokens\n",
    "\n",
    "Each training example was structured as:\n",
    "\n",
    "```\n",
    "Input:   question: <bt_question> context: <context>\n",
    "Target:  <answer>\n",
    "```\n",
    "\n",
    "Where `bt_question` is the **backtranslated Portuguese question**, and `context` and `answer` remain in Portuguese as provided in the dataset.\n",
    "\n",
    "### Data Preparation\n",
    "\n",
    "We used backtranslated Portuguese QA data (`qa_pt_train_backtranslated.csv`, etc.) where:\n",
    "\n",
    "* `bt_question`: paraphrased Portuguese questions (via MarianMT backtranslation)\n",
    "* `context`: Portuguese (or translated-to-Portuguese) passages\n",
    "* `answer`: short, fluently phrased answers in Portuguese\n",
    "\n",
    "After filtering for completeness, the datasets were formatted and tokenized using the Hugging Face `datasets` and `transformers` libraries."
   ]
  },
  {
   "cell_type": "code",
   "execution_count": null,
   "metadata": {
    "colab": {
     "base_uri": "https://localhost:8080/",
     "height": 1000,
     "referenced_widgets": [
      "d5cb75f797944ae0b6bd38d2b4749048",
      "b12db926871648a1929402647ab25ff7",
      "92d33ee83f7e42ecb8f294d0bcf3a045",
      "98575a13fb2d44a4957296f2a9bcf2b0",
      "3971720071e24de6ace08a7d156aa379",
      "681c4fd3690d4f28b389cd305e714ada",
      "50ec3fd8e21044469e2c298c1e424515",
      "57af74d201e64134a3c7c2533bcff45b",
      "a646b0acb27a4088823298e1cc68349d",
      "6662c087855945e899054d5d89d549d9",
      "c71be87ae4e24dbc89bfb20cf25ec6fa",
      "db2bb828714540b58e7063e06ad975a1",
      "768fced790df4bcc8a195c9afdbc07a3",
      "ed8d728793284b06a748e7513600924f",
      "b43caf3b7818413dbc712fd47f04af1f",
      "c23fb14911344520a2c03fb9a9761f3b",
      "c803ce79092546b59a6c1be83d09599a",
      "8c08fead67e24fa8bb9d5288b7fd542a",
      "6f844122b5584cecb4d1415516a892c2",
      "a5d5417a0b4843b79057e346a20b23bc",
      "ae3864be9c7f476980dc8d7e28fcd9b0",
      "aeac9ffcb12841fd8ac0af5384ca97ec"
     ]
    },
    "executionInfo": {
     "elapsed": 1576028,
     "status": "ok",
     "timestamp": 1746594764817,
     "user": {
      "displayName": "M S",
      "userId": "11397028202230619793"
     },
     "user_tz": 240
    },
    "id": "a53PqulGO0xC",
    "outputId": "b9814724-7ea4-492e-bc08-5a379f13038c"
   },
   "outputs": [],
   "source": [
    "# Load datasets\n",
    "qa_pt_train = pd.read_csv(\"qa_pt_train_backtranslated.csv\")\n",
    "qa_pt_val   = pd.read_csv(\"qa_pt_val_backtranslated.csv\")\n",
    "\n",
    "# Build input → \"question: ... context: ...\" / output → \"answer\"\n",
    "def format_for_t5(df):\n",
    "    df = df.dropna(subset=[\"bt_question\", \"context\", \"answer\"])\n",
    "    df[\"input_text\"] = df.apply(lambda row: f\"question: {row['bt_question']} context: {row['context']}\", axis=1)\n",
    "    df[\"target_text\"] = df[\"answer\"].astype(str).str.strip()\n",
    "    return df[[\"input_text\", \"target_text\"]]\n",
    "\n",
    "train_df = format_for_t5(qa_pt_train)\n",
    "val_df   = format_for_t5(qa_pt_val)\n",
    "\n",
    "# Convert to Hugging Face Datasets\n",
    "train_dataset = Dataset.from_pandas(train_df)\n",
    "val_dataset   = Dataset.from_pandas(val_df)\n",
    "\n",
    "# Load T5 tokenizer and model\n",
    "model_name = \"unicamp-dl/ptt5-base-portuguese-vocab\"\n",
    "tokenizer = T5Tokenizer.from_pretrained(model_name)\n",
    "model = T5ForConditionalGeneration.from_pretrained(model_name)\n",
    "\n",
    "# Tokenize\n",
    "def preprocess(example):\n",
    "    model_inputs = tokenizer(example[\"input_text\"], max_length=512, truncation=True, padding=\"max_length\")\n",
    "    with tokenizer.as_target_tokenizer():\n",
    "        labels = tokenizer(example[\"target_text\"], max_length=64, truncation=True, padding=\"max_length\")\n",
    "    model_inputs[\"labels\"] = labels[\"input_ids\"]\n",
    "    return model_inputs\n",
    "\n",
    "tokenized_train = train_dataset.map(preprocess, remove_columns=train_dataset.column_names)\n",
    "tokenized_val   = val_dataset.map(preprocess, remove_columns=val_dataset.column_names)\n",
    "\n",
    "# Training args\n",
    "training_args = TrainingArguments(\n",
    "    output_dir=\"./generative_qa_model\",\n",
    "    per_device_train_batch_size=8,\n",
    "    per_device_eval_batch_size=8,\n",
    "    num_train_epochs=5,\n",
    "    learning_rate=2e-4,\n",
    "    weight_decay=0.01,\n",
    "    logging_steps=10,\n",
    "    save_total_limit=1,\n",
    "    save_steps=500,\n",
    "    prediction_loss_only=True\n",
    ")\n",
    "\n",
    "# Trainer\n",
    "trainer = Trainer(\n",
    "    model=model,\n",
    "    args=training_args,\n",
    "    train_dataset=tokenized_train,\n",
    "    eval_dataset=tokenized_val,\n",
    "    tokenizer=tokenizer\n",
    ")\n",
    "\n",
    "trainer.train()\n",
    "model.save_pretrained(\"t5_qa_model\")\n",
    "tokenizer.save_pretrained(\"t5_qa_model\")\n",
    "\n",
    "# Extract loss history\n",
    "train_logs = [log for log in trainer.state.log_history if \"loss\" in log and \"eval_loss\" not in log]\n",
    "eval_logs  = [log for log in trainer.state.log_history if \"eval_loss\" in log]\n",
    "\n",
    "train_loss_vals = [entry[\"loss\"] for entry in train_logs]\n",
    "eval_loss_vals  = [entry[\"eval_loss\"] for entry in eval_logs]\n",
    "train_steps     = [entry[\"step\"] for entry in train_logs]\n",
    "eval_steps      = [entry[\"step\"] for entry in eval_logs]"
   ]
  },
  {
   "cell_type": "code",
   "execution_count": null,
   "metadata": {
    "colab": {
     "base_uri": "https://localhost:8080/",
     "height": 73
    },
    "executionInfo": {
     "elapsed": 10067,
     "status": "ok",
     "timestamp": 1746594775089,
     "user": {
      "displayName": "M S",
      "userId": "11397028202230619793"
     },
     "user_tz": 240
    },
    "id": "vz7kxdUsE2ho",
    "outputId": "451d4015-c003-47f0-c24b-bbacbde9ab64"
   },
   "outputs": [],
   "source": [
    "# Get final training loss (last entry in train logs)\n",
    "final_train_loss = train_loss_vals[-1] if train_loss_vals else None\n",
    "\n",
    "# Get final validation loss (last entry in eval logs)\n",
    "if eval_loss_vals:\n",
    "    final_val_loss = eval_loss_vals[-1]\n",
    "else:\n",
    "    # Fallback: evaluate manually if no eval loss was logged\n",
    "    eval_result = trainer.evaluate()\n",
    "    final_val_loss = eval_result.get(\"eval_loss\", None)\n",
    "\n",
    "# Print results\n",
    "print(f\"Final Training Loss: {final_train_loss}\")\n",
    "print(f\"Final Validation Loss: {final_val_loss}\")"
   ]
  },
  {
   "cell_type": "markdown",
   "metadata": {
    "id": "5QCpS7ClK0Q9"
   },
   "source": [
    "Our model's training loss decreased significantly, from an initial value of 8.06 at step 10 to a final training loss of 0.47, indicating that the model successfully learned to fit the training data over time.\n",
    "\n",
    "The final validation loss is 0.63, which is higher than the training loss but not drastically so. This gap suggests some overfitting, but not severe — the model still generalizes reasonably to unseen data."
   ]
  },
  {
   "cell_type": "code",
   "execution_count": null,
   "metadata": {
    "colab": {
     "base_uri": "https://localhost:8080/"
    },
    "executionInfo": {
     "elapsed": 192125,
     "status": "ok",
     "timestamp": 1746594974582,
     "user": {
      "displayName": "M S",
      "userId": "11397028202230619793"
     },
     "user_tz": 240
    },
    "id": "923q0zuNPpxy",
    "outputId": "2a09032a-5c6c-42df-c77a-691c19b7e54a"
   },
   "outputs": [],
   "source": [
    "qa_pipeline = pipeline(\"text2text-generation\", model=\"t5_qa_model\", tokenizer=\"t5_qa_model\")\n",
    "\n",
    "qa_pt_test = pd.read_csv(\"qa_pt_test_backtranslated.csv\")\n",
    "\n",
    "def format_input(row):\n",
    "    return f\"question: {row['bt_question']} context: {row['context']}\"\n",
    "\n",
    "qa_pt_test = qa_pt_test.dropna(subset=[\"bt_question\", \"context\"])\n",
    "qa_pt_test[\"input_text\"] = qa_pt_test.apply(format_input, axis=1)\n",
    "\n",
    "predictions = []\n",
    "for text in qa_pt_test[\"input_text\"]:\n",
    "    pred = qa_pipeline(text, max_length=64, truncation=True)[0][\"generated_text\"]\n",
    "    predictions.append(pred)\n",
    "\n",
    "qa_pt_test[\"predicted_answer\"] = predictions"
   ]
  },
  {
   "cell_type": "code",
   "execution_count": null,
   "metadata": {
    "colab": {
     "base_uri": "https://localhost:8080/"
    },
    "executionInfo": {
     "elapsed": 28,
     "status": "ok",
     "timestamp": 1746594974607,
     "user": {
      "displayName": "M S",
      "userId": "11397028202230619793"
     },
     "user_tz": 240
    },
    "id": "w7JpgonLRAEO",
    "outputId": "5425f42f-35ec-477c-8123-9488c42fbd2b"
   },
   "outputs": [],
   "source": [
    "def compute_f1(pred, truth):\n",
    "    pred_tokens = set(pred.lower().split())\n",
    "    truth_tokens = set(truth.lower().split())\n",
    "    common = pred_tokens & truth_tokens\n",
    "    if not common:\n",
    "        return 0.0\n",
    "    precision = len(common) / len(pred_tokens)\n",
    "    recall = len(common) / len(truth_tokens)\n",
    "    return 2 * (precision * recall) / (precision + recall)\n",
    "\n",
    "qa_pt_test[\"true_answer\"] = qa_pt_test[\"answer\"].astype(str).str.strip()\n",
    "qa_pt_test[\"f1\"] = qa_pt_test.apply(lambda r: compute_f1(r[\"predicted_answer\"], r[\"true_answer\"]), axis=1)\n",
    "qa_pt_test[\"exact_match\"] = qa_pt_test.apply(lambda r: int(r[\"predicted_answer\"].strip().lower() == r[\"true_answer\"].lower()), axis=1)\n",
    "\n",
    "print(f\"\\nExact Match: {qa_pt_test['exact_match'].mean():.2%}\")\n",
    "print(f\"F1 Score: {qa_pt_test['f1'].mean():.2%}\")"
   ]
  },
  {
   "cell_type": "code",
   "execution_count": null,
   "metadata": {
    "colab": {
     "base_uri": "https://localhost:8080/"
    },
    "executionInfo": {
     "elapsed": 17,
     "status": "ok",
     "timestamp": 1746594974666,
     "user": {
      "displayName": "M S",
      "userId": "11397028202230619793"
     },
     "user_tz": 240
    },
    "id": "puhr2pcORxPK",
    "outputId": "54401e6a-d690-4ddb-89b0-0f38fb670052"
   },
   "outputs": [],
   "source": [
    "# Show a few example predictions\n",
    "for i, row in qa_pt_test.sample(5, random_state=42).iterrows():\n",
    "    print(f\"1) Question: {row['bt_question']}\")\n",
    "    print(f\"2) Context: {row['context'][:300]}...\")  # Trim long contexts\n",
    "    print(f\"3) True Answer: {row['answer']}\")\n",
    "    print(f\"4) Predicted Answer: {row['predicted_answer']}\")\n",
    "    print(f\"5)F1: {row['f1']:.2f} | EM: {row['exact_match']}\")\n",
    "    print(\"-\" * 80)"
   ]
  },
  {
   "cell_type": "code",
   "execution_count": null,
   "metadata": {
    "colab": {
     "base_uri": "https://localhost:8080/",
     "height": 156,
     "referenced_widgets": [
      "fed7e8d511264b3290c1409100eae54f",
      "3e5854d7955945358efc0c637b6b3f8b",
      "9e6a9e24b17b45e8a927fcddec7a6e15",
      "7da1c9316f4842cba18ffb88715e7d63",
      "4d813412a1bb4339808024ef985e5380",
      "54eaeb7277ca41cb956db821adad02eb",
      "1c0ad9f9f8eb4c669f3c3bb5d722e900",
      "de79ef1648dc4bd388bd7408e4929e7e",
      "282e126d924e478683b5321d6a7eaf09",
      "346636d208c64d5a81df1ba3fb583ffa",
      "5921ea39eae5429890c321ebc5eda10e"
     ]
    },
    "executionInfo": {
     "elapsed": 41010,
     "status": "ok",
     "timestamp": 1746595015677,
     "user": {
      "displayName": "M S",
      "userId": "11397028202230619793"
     },
     "user_tz": 240
    },
    "id": "bY58f3H3Z1Ze",
    "outputId": "c70aab6a-b995-4416-9849-fb0fabae8fb3"
   },
   "outputs": [],
   "source": [
    "rouge = evaluate.load(\"rouge\")\n",
    "\n",
    "references = qa_pt_test[\"answer\"].astype(str).tolist()\n",
    "predictions = qa_pt_test[\"predicted_answer\"].astype(str).tolist()\n",
    "\n",
    "rouge_results = rouge.compute(predictions=predictions, references=references)\n",
    "\n",
    "print(\"\\nROUGE Scores:\")\n",
    "for key, value in rouge_results.items():\n",
    "    print(f\"{key}: {value:.2%}\")\n",
    "\n",
    "# Compute per-example ROUGE-L\n",
    "rouge_l_scores = []\n",
    "for ref, pred in zip(references, predictions):\n",
    "    score = rouge.compute(predictions=[pred], references=[ref], use_stemmer=True)\n",
    "    rouge_l_scores.append(score[\"rougeL\"])\n",
    "\n",
    "qa_pt_test[\"rougeL\"] = rouge_l_scores"
   ]
  },
  {
   "cell_type": "code",
   "execution_count": null,
   "metadata": {
    "colab": {
     "base_uri": "https://localhost:8080/"
    },
    "executionInfo": {
     "elapsed": 59,
     "status": "ok",
     "timestamp": 1746595015734,
     "user": {
      "displayName": "M S",
      "userId": "11397028202230619793"
     },
     "user_tz": 240
    },
    "id": "KLeH0e1dauON",
    "outputId": "53634a3b-8e58-4253-a05c-711b2a44b17f"
   },
   "outputs": [],
   "source": [
    "# Best 5\n",
    "print(\"Best ROUGE-L Predictions:\\n\")\n",
    "for _, row in qa_pt_test.sort_values(\"rougeL\", ascending=False).head(5).iterrows():\n",
    "    print(f\"1) Q: {row['bt_question']}\")\n",
    "    print(f\"2) Context: {row['context'][:200]}...\")\n",
    "    print(f\"3) True: {row['answer']}\")\n",
    "    print(f\"4) Pred: {row['predicted_answer']}\")\n",
    "    print(f\"5) ROUGE-L: {row['rougeL']:.2%}\")\n",
    "    print(\"-\" * 80)\n",
    "\n",
    "# Worst 5\n",
    "print(\"Worst ROUGE-L Predictions:\\n\")\n",
    "for _, row in qa_pt_test.sort_values(\"rougeL\", ascending=True).head(5).iterrows():\n",
    "    print(f\"1) Q: {row['bt_question']}\")\n",
    "    print(f\"2) Context: {row['context'][:200]}...\")\n",
    "    print(f\"3) True: {row['answer']}\")\n",
    "    print(f\"4) Pred: {row['predicted_answer']}\")\n",
    "    print(f\"5) ROUGE-L: {row['rougeL']:.2%}\")\n",
    "    print(\"-\" * 80)"
   ]
  },
  {
   "cell_type": "markdown",
   "metadata": {
    "id": "rgZjcgZOiOJA"
   },
   "source": [
    "### Evaluation Metrics\n",
    "\n",
    "Since the task is **generative**, we evaluated performance using metrics suitable for free-text generation:\n",
    "\n",
    "* **Exact Match (EM)**: Percentage of predictions that exactly match the gold answer.\n",
    "* **F1 Score**: Token-level precision and recall between prediction and reference.\n",
    "* **ROUGE-L**: Measures the longest common subsequence between prediction and reference, capturing sequence-level overlap.\n",
    "\n",
    "### Evaluation Results\n",
    "\n",
    "| Metric        | Value      |\n",
    "| ------------- | ---------- |\n",
    "| Exact Match   | **1.85%**  |\n",
    "| F1 Score      | **28.44%** |\n",
    "| ROUGE-L (avg) | **31.98%** |\n",
    "\n",
    "While **Exact Match remains low**, this is expected in generative QA, especially when answers are paraphrased. The **F1** and **ROUGE-L scores** indicate that the model often produces **semantically appropriate answers** with moderate surface-level overlap.\n",
    "\n",
    "### Prediction Examples\n",
    "\n",
    "#### Good Prediction (High F1 and ROUGE)\n",
    "\n",
    "> **Question**: \"Qual é o impacto na praia da barreira de segurança?\"\n",
    "> **Gold**: \"Falha pode iniciar imediatamente eventos de ganhos e perdas no poço...\"\n",
    "> **Predicted**: \"A falha pode iniciar imediatamente os eventos de ganhos e perdas no poço...\"\n",
    "> → **F1**: 0.92 | **ROUGE-L**: High\n",
    "\n",
    "#### Poor Prediction (Low F1/ROUGE despite semantic relevance)\n",
    "\n",
    "> **Question**: \"Onde o navio Skandi Aker opera?\"\n",
    "> **Gold**: \"Primariamente nas águas profundas\"\n",
    "> **Predicted**: \"Na bacia de águas profundas.\"\n",
    "> → **F1**: 0.00 | **ROUGE-L**: 0.00\n",
    "\n",
    "### Additional Examples\n",
    "\n",
    "#### **Better Generations**\n",
    "\n",
    "* **Q**: \"Quando foi instalada a primeira bomba submersível elétrica?\"\n",
    "  \n",
    "  **A**: \"Outubro/1994\" → ✔ Predicted **exactly**, ROUGE-L: **100%**\n",
    "\n",
    "* **Q**: \"Onde encontro *Amphisbaena pretrei*?\"\n",
    "  \n",
    "  **A**: \"Leste do Brasil\" → ✔ Predicted **exactly**, ROUGE-L: **100%**\n",
    "\n",
    "* **Q**: \"Quem enviou a carta à empresa americana Global Industries?\"\n",
    "  \n",
    "  **A**: \"Petrobras\" → ✔ Predicted **exactly**, ROUGE-L: **100%**\n",
    "\n",
    "#### **Failure Cases (ROUGE-L: 0.00%)**\n",
    "\n",
    "* **Q**: \"De que forma as imagens das ondas são impactadas por mudanças críticas?\"\n",
    "  \n",
    "  **A**: \"Mudanças climáticas devem resultar em aumentos expressivos...\"\n",
    "  \n",
    "  **Pred**: \"A elevação do nível do mar (SLR)\"\n",
    "\n",
    "* **Q**: \"Onde os campos de petróleo offshore estão sendo desenvolvidos?\"\n",
    "  \n",
    "  **A**: \"Em grandes profundidades\"\n",
    "  \n",
    "  **Pred**: \"Na bacia de Campos, Brasil\"\n",
    "\n",
    "### Insights and Takeaways\n",
    "\n",
    "* The model generates **fluent and context-aware Portuguese answers**, even from limited training data.\n",
    "* It handles **structured factual questions** well, especially when answers are short or named entities.\n",
    "* Most errors occur when predictions are **vague, generic**, or **contextually plausible but not extractive**.\n",
    "* **ROUGE-L and F1 capture partial correctness**, even when EM is zero — especially helpful in paraphrastic cases.\n",
    "\n",
    "> **Note on Metrics**: While F1 and Exact Match are traditionally used in extractive QA, they have limitations in the **generative setting**. Many valid answers differ in surface form but are semantically correct. As a result:\n",
    ">\n",
    "> * **Exact Match** often underestimates performance.\n",
    "> * **F1 Score** may still reflect token-level overlap, but misses meaning-level fidelity.\n",
    "> * **ROUGE-L** tends to be more informative, capturing sequence-level similarity even when word order varies.\n",
    "\n",
    "Overall, the results confirm that a **generative QA model is better suited** to this task than an extractive one, especially given the **paraphrased, non-verbatim nature** of many ground-truth answers in the Pirá dataset."
   ]
  },
  {
   "cell_type": "markdown",
   "metadata": {
    "id": "K1tHbcRCk_QH"
   },
   "source": [
    "<a id=\"mcq\"></a>\n",
    "# 8. MCQ Final Model"
   ]
  },
  {
   "cell_type": "markdown",
   "metadata": {
    "id": "-tB8JOv0L74k"
   },
   "source": [
    "The multilingual MCQ system answers Portuguese multiple-choice questions over English contexts using cross-lingual projection. Since the MCQ dataset is originally in English, translation steps are required.\n",
    "\n",
    "**Step 1: Prepare the MCQ dataset.**\n",
    "\n",
    "Each entry includes an English context (text), question (question), answer options (A, B, C, D, optionally E), and the correct answer label. If Portuguese inputs are needed, questions and options must be translated.\n",
    "\n",
    "**Step 2: Back-translate Portuguese questions and options.**\n",
    "\n",
    "Translate questions and options into English and back into Portuguese using MarianMT to generate paraphrased inputs.\n",
    "\n",
    "**Step 3: Train the English MCQ model.**\n",
    "\n",
    "Train a model to classify the correct answer among options.\n",
    "\n",
    "**Step 4: Load aligned fastText embeddings.**\n",
    "\n",
    "Use aligned English and Portuguese embeddings to allow cross-lingual projection.\n",
    "\n",
    "**Step 5: Project Portuguese inputs into English space.**\n",
    "\n",
    "Project Portuguese questions and options into the English-trained MCQ model's embedding space. Only project the question and options — the context remains in English.\n",
    "\n",
    "**Step 6: Inference and scoring.**\n",
    "\n",
    "Tokenize the English context with each projected Portuguese question-option pair. Score each pairing using the MCQ model and select the highest-scoring option as the final prediction. Outputs can be the predicted letter (A/B/C/D) or the corresponding English/Portuguese text."
   ]
  },
  {
   "cell_type": "code",
   "execution_count": null,
   "metadata": {
    "id": "9TXC13mCJ7ZA"
   },
   "outputs": [],
   "source": [
    "# Step 1: Creating the Backtranslated Multiple Choice.\n",
    "# Saved these as csv files for better access and prevent redundant computations\n",
    "\n",
    "# === Paths ===\n",
    "base_path  = \"/content/drive/My Drive/Project/Milestone 4/\"\n",
    "output_dir = \"/content/drive/My Drive/Project/Milestone 5/backtranslations/\"\n",
    "\n",
    "os.makedirs(output_dir, exist_ok=True)\n",
    "model_name_en_pt = \"Helsinki-NLP/opus-mt-tc-big-en-pt\"\n",
    "tokenizer_en_pt = MarianTokenizer.from_pretrained(model_name_en_pt)\n",
    "model_en_pt     = MarianMTModel.from_pretrained(model_name_en_pt)\n",
    "device = torch.device(\"cuda\" if torch.cuda.is_available() else \"cpu\")\n",
    "model_en_pt.to(device)\n",
    "\n",
    "# === Helper to translate a list of strings EN→PT ===\n",
    "def translate_en_to_pt(texts, batch_size=16):\n",
    "    translations = []\n",
    "    model_en_pt.eval()\n",
    "    with torch.no_grad():\n",
    "        for i in tqdm(range(0, len(texts), batch_size), desc=\"Translating EN→PT\"):\n",
    "            batch = texts[i : i + batch_size]\n",
    "            enc = tokenizer_en_pt(batch, return_tensors=\"pt\", padding=True, truncation=True).to(device)\n",
    "            outs = model_en_pt.generate(**enc)\n",
    "            translations.extend(tokenizer_en_pt.batch_decode(outs, skip_special_tokens=True))\n",
    "    return translations\n",
    "\n",
    "# === One‐shot PT option–translation for a split ===\n",
    "def translate_mcq_options_to_pt(in_csv, out_csv):\n",
    "    # skip if already done\n",
    "    if os.path.exists(out_csv):\n",
    "        print(f\"{out_csv} exists; loading.\")\n",
    "        return pd.read_csv(out_csv)\n",
    "\n",
    "    print(f\"\\n Reading {in_csv}\")\n",
    "    df = pd.read_csv(in_csv)\n",
    "    # parse the “options” column into lists\n",
    "    df[\"options\"] = df[\"options\"].apply(eval)\n",
    "\n",
    "    # flatten and translate\n",
    "    flat_opts = [opt for opts in df[\"options\"] for opt in opts]\n",
    "    print(f\"\\n Translating {len(flat_opts)} option‐strings EN→PT\")\n",
    "    pt_opts = translate_en_to_pt(flat_opts, batch_size=16)\n",
    "\n",
    "    # regroup into rows\n",
    "    lengths = df[\"options\"].apply(len).tolist()\n",
    "    grouped = []\n",
    "    idx = 0\n",
    "    for L in lengths:\n",
    "        grouped.append(pt_opts[idx : idx + L])\n",
    "        idx += L\n",
    "\n",
    "    df[\"bt_options\"] = grouped\n",
    "\n",
    "    # keep only the columns you want\n",
    "    cols = [\n",
    "        \"id\",\n",
    "        \"context\",\n",
    "        \"question\",\n",
    "        \"options\",\n",
    "        \"correct_option\",\n",
    "        \"correct_answer_text\",\n",
    "        \"question_pt_deepl\",\n",
    "        \"bt_options\",\n",
    "    ]\n",
    "    df = df[[c for c in cols if c in df.columns]]\n",
    "\n",
    "    print(f\"\\n Saving {out_csv}\")\n",
    "    df.to_csv(out_csv, index=False)\n",
    "    return df\n",
    "\n",
    "train_in  = base_path + \"processed_mcqa_train.csv\"\n",
    "val_in    = base_path + \"processed_mcqa_validation.csv\"\n",
    "test_in   = base_path + \"processed_mcqa_test.csv\"\n",
    "\n",
    "train_out = output_dir + \"mcqa_train_pt_options.csv\"\n",
    "val_out   = output_dir + \"mcqa_val_pt_options.csv\"\n",
    "test_out  = output_dir + \"mcqa_test_pt_options.csv\"\n"
   ]
  },
  {
   "cell_type": "code",
   "execution_count": null,
   "metadata": {
    "id": "mbRY6EGaKJU3"
   },
   "outputs": [],
   "source": [
    "# NOTE: These only need to be run once if the files are not in the drive.\n",
    "# Else, skip to Reading the Backtranslation files\n",
    "\n",
    "mcqa_train = translate_mcq_options_to_pt(train_in, train_out)"
   ]
  },
  {
   "cell_type": "code",
   "execution_count": null,
   "metadata": {
    "id": "q42dKvVdKP1D"
   },
   "outputs": [],
   "source": [
    "# torch.cuda.empty_cache()\n",
    "mcqa_val   = translate_mcq_options_to_pt(val_in, val_out)"
   ]
  },
  {
   "cell_type": "code",
   "execution_count": null,
   "metadata": {
    "id": "Tg6NNmLrKT98"
   },
   "outputs": [],
   "source": [
    "# torch.cuda.empty_cache()\n",
    "mcqa_test  = translate_mcq_options_to_pt(test_in, test_out)"
   ]
  },
  {
   "cell_type": "code",
   "execution_count": null,
   "metadata": {
    "id": "JOIum3--KZZg"
   },
   "outputs": [],
   "source": [
    "# Reading the Backtranslation files\n",
    "\n",
    "base_dir = \"/content/drive/My Drive/Project/Milestone 5/backtranslations/\"\n",
    "\n",
    "train_df = pd.read_csv(base_dir + \"mcqa_train_pt_options.csv\")\n",
    "val_df   = pd.read_csv(base_dir + \"mcqa_val_pt_options.csv\")\n",
    "test_df  = pd.read_csv(base_dir + \"mcqa_test_pt_options.csv\")\n",
    "\n",
    "# Parse the bt_options column back to lists\n",
    "for df in [train_df, val_df, test_df]:\n",
    "    df[\"bt_options\"] = df[\"bt_options\"].apply(eval)"
   ]
  },
  {
   "cell_type": "code",
   "execution_count": null,
   "metadata": {
    "id": "NRUchznvKnSP"
   },
   "outputs": [],
   "source": [
    "en_embeddings = KeyedVectors.load_word2vec_format(\"cc.en.300.vec\", binary=False)\n",
    "pt_embeddings = KeyedVectors.load_word2vec_format(\"cc.pt.300.vec\", binary=False)\n"
   ]
  },
  {
   "cell_type": "code",
   "execution_count": null,
   "metadata": {
    "id": "UdzE_Yg2KrBw"
   },
   "outputs": [],
   "source": [
    "# Build kNN for English embedding space\n",
    "english_vocab = list(en_embeddings.key_to_index.keys())\n",
    "english_matrix = np.vstack([en_embeddings[word] for word in english_vocab[:50000]])\n",
    "knn = NearestNeighbors(n_neighbors=5).fit(english_matrix)\n"
   ]
  },
  {
   "cell_type": "code",
   "execution_count": null,
   "metadata": {
    "id": "FEDQKHD_jdH_"
   },
   "outputs": [],
   "source": [
    "# Step 4: Define Projection and Embedding Functions\n",
    "def tokenize(text):\n",
    "    text = text.lower()\n",
    "    text = re.sub(r\"[^a-zá-úà-ùãõâêîôûç0-9 ]\", \" \", text)  # keep alphanumerics + accents\n",
    "    text = re.sub(r\"\\s+\", \" \", text).strip()\n",
    "    return text.split()\n",
    "\n",
    "def embed_tokens(tokens, embeddings, dim=300):\n",
    "    return np.array([embeddings[word] if word in embeddings else np.zeros(dim) for word in tokens])\n"
   ]
  },
  {
   "cell_type": "code",
   "execution_count": null,
   "metadata": {
    "id": "d2ljEhrsjiBh"
   },
   "outputs": [],
   "source": [
    "def project_to_en_space(pt_text):\n",
    "    words = tokenize(pt_text)\n",
    "    projected = []\n",
    "    for word in words:\n",
    "        if word not in pt_embeddings:\n",
    "            continue\n",
    "        pt_vec = pt_embeddings[word].reshape(1, -1)\n",
    "        distances, indices = knn.kneighbors(pt_vec)\n",
    "        neighbors = [english_vocab[i] for i in indices[0]]\n",
    "        weights = 1 / (distances + 1e-6)\n",
    "        weights /= weights.sum()\n",
    "        vec = sum(weights[0][i] * en_embeddings[neighbors[i]] for i in range(len(neighbors)))\n",
    "        projected.append(vec)\n",
    "\n",
    "    # Debug: warn if empty\n",
    "    if len(projected) == 0:\n",
    "        print(f\"Empty projection for text: '{pt_text[:50]}...'\")\n",
    "    return np.array(projected)"
   ]
  },
  {
   "cell_type": "markdown",
   "metadata": {
    "id": "tDcieX1Tj6lV"
   },
   "source": [
    "# Binary Classification Approach\n",
    "We initially  implemented a **binary classification approach** for multiple-choice QA by defining the `MCQDataset` class. Each Portuguese question and its five answer options are projected into the English embedding space, and then paired to form five (question, option) combinations per question. Each pair is labeled with a binary value: 1 if the option is the correct answer, and 0 otherwise.\n",
    "\n",
    "The code includes checks to skip samples where either the question or any option fails to project into the embedding space, and prints error messages for invalid labels or projection issues to ensure only valid training examples are retained. If an option fails to project (i.e., results in an empty vector after applying `project_to_en_space`), the entire multiple-choice question is skipped during dataset construction. This prevents errors during training (like shape mismatches) and ensures the model only learns from complete and valid input pairs.\n",
    "\n",
    "\n"
   ]
  },
  {
   "cell_type": "code",
   "execution_count": null,
   "metadata": {
    "id": "Dnd-QhlCKxy1"
   },
   "outputs": [],
   "source": [
    "class MCQDataset(Dataset):\n",
    "    def __init__(self, dataframe, max_len=100):\n",
    "        self.samples = []\n",
    "        self.labels = []\n",
    "        self.max_len = max_len\n",
    "        skipped_rows = 0\n",
    "\n",
    "        for idx, row in dataframe.iterrows():\n",
    "            q_proj = project_to_en_space(row[\"question_pt_deepl\"])\n",
    "            opt_proj_list = [project_to_en_space(opt) for opt in row[\"bt_options\"]]\n",
    "\n",
    "            # Skip if question or any option projection is empty\n",
    "            if q_proj.shape[0] == 0 or any(opt.shape[0] == 0 for opt in opt_proj_list):\n",
    "                skipped_rows += 1\n",
    "                continue\n",
    "\n",
    "            try:\n",
    "                correct_idx = ord(row[\"correct_answer_text\"].strip().lower()) - ord('a')\n",
    "            except Exception as e:\n",
    "                print(f\" Invalid correct_answer_text at row {idx}: {e}\")\n",
    "                skipped_rows += 1\n",
    "                continue\n",
    "\n",
    "            for i, opt_proj in enumerate(opt_proj_list):\n",
    "                try:\n",
    "                    seq = np.vstack([q_proj, opt_proj])  # Shape: (T, 300)\n",
    "                except ValueError as e:\n",
    "                    print(f\" vstack error at row {idx}, option {i}: {e}\")\n",
    "                    skipped_rows += 1\n",
    "                    continue\n",
    "\n",
    "                if len(seq) > self.max_len:\n",
    "                    seq = seq[:self.max_len]\n",
    "                else:\n",
    "                    seq = np.pad(seq, ((0, self.max_len - len(seq)), (0, 0)))  # Pad to (max_len, 300)\n",
    "\n",
    "                self.samples.append(seq)\n",
    "                self.labels.append(1 if i == correct_idx else 0)\n",
    "\n",
    "        if skipped_rows > 0:\n",
    "            print(f\"⚠️ Skipped {skipped_rows} rows due to empty projections or errors.\")\n",
    "\n",
    "    def __len__(self):\n",
    "        return len(self.samples)\n",
    "\n",
    "    def __getitem__(self, idx):\n",
    "        return (\n",
    "            torch.tensor(self.samples[idx], dtype=torch.float32),\n",
    "            torch.tensor(self.labels[idx], dtype=torch.long)\n",
    "        )"
   ]
  },
  {
   "cell_type": "markdown",
   "metadata": {
    "id": "NMGAKLyIlGDj"
   },
   "source": [
    "### **FFNN Softmax MCQ Classifier**\n",
    "\n",
    "As a baseline, we used a feedforward neural network to classify MCQ options. The FFNN computes a score for each option paired with the question. It ignores word order and computes a mean vector over the sequence before classification.\n",
    "\n",
    "* **Embedding dimension**: 300 (from fastText projections)\n",
    "* **Hidden size**: 128\n",
    "* **Layers**: Two linear layers with ReLU and dropout\n",
    "* **Dropout**: 0.3 after the first layer\n",
    "* **Loss function**: Binary cross-entropy (1 for correct option, 0 otherwise)\n",
    "* **Optimizer**: Adam, learning rate 2e-4\n",
    "* **Input shape**: `[batch_size, sequence_length, 300]` (reduced to mean vector)\n",
    "* **Output**: Scalar logit per question–option pair"
   ]
  },
  {
   "cell_type": "code",
   "execution_count": null,
   "metadata": {
    "id": "ug4i1nw7BW6u"
   },
   "outputs": [],
   "source": [
    "# Softmax Classifier\n",
    "class SoftmaxFFN_MCQ(nn.Module):\n",
    "    def __init__(self, input_dim=300, hidden_dim=128):\n",
    "        super().__init__()\n",
    "        self.fc1 = nn.Linear(input_dim, hidden_dim)\n",
    "        self.dropout = nn.Dropout(0.3)\n",
    "        self.fc2 = nn.Linear(hidden_dim, 1)\n",
    "\n",
    "    def forward(self, x):\n",
    "        mean_vec = torch.mean(x, dim=1)\n",
    "        h = F.relu(self.fc1(mean_vec))\n",
    "        h = self.dropout(h)\n",
    "        return self.fc2(h).squeeze(-1)"
   ]
  },
  {
   "cell_type": "markdown",
   "metadata": {
    "id": "Qcb3XJlFlP7W"
   },
   "source": [
    "We train the MCQ  classification model with the binary cross-entropy loss, tracking training and validation performance across epochs to return the best-performing model state based on validation loss. Lastly the function also plots the loss curves.\n"
   ]
  },
  {
   "cell_type": "code",
   "execution_count": null,
   "metadata": {
    "id": "CCxF5gL_2TeV"
   },
   "outputs": [],
   "source": [
    "def train_mcq_model(model, train_dataset, val_dataset, model_name=\"MCQ_Model\", num_epochs=20, lr=2e-4, batch_size=32):\n",
    "    device = torch.device(\"cuda\" if torch.cuda.is_available() else \"cpu\")\n",
    "    model = model.to(device)\n",
    "    optimizer = torch.optim.Adam(model.parameters(), lr=lr)\n",
    "    criterion = nn.BCEWithLogitsLoss()\n",
    "\n",
    "    train_loader = DataLoader(train_dataset, batch_size=batch_size, shuffle=True)\n",
    "    val_loader = DataLoader(val_dataset, batch_size=batch_size)\n",
    "\n",
    "    train_losses, val_losses = [], []\n",
    "    best_val_loss = float(\"inf\")\n",
    "    best_model_state = None\n",
    "\n",
    "    for epoch in range(num_epochs):\n",
    "        model.train()\n",
    "        total_loss = 0\n",
    "        for x_batch, y_batch in train_loader:\n",
    "            x_batch, y_batch = x_batch.to(device), y_batch.float().to(device)\n",
    "            optimizer.zero_grad()\n",
    "            logits = model(x_batch)\n",
    "            loss = criterion(logits, y_batch)\n",
    "            loss.backward()\n",
    "            optimizer.step()\n",
    "            total_loss += loss.item()\n",
    "\n",
    "        train_losses.append(total_loss / len(train_loader))\n",
    "\n",
    "        # Validation loop\n",
    "        model.eval()\n",
    "        val_loss = 0\n",
    "        all_preds, all_labels = [], []\n",
    "        with torch.no_grad():\n",
    "            for x_batch, y_batch in val_loader:\n",
    "                x_batch, y_batch = x_batch.to(device), y_batch.float().to(device)\n",
    "                logits = model(x_batch)\n",
    "                loss = criterion(logits, y_batch)\n",
    "                val_loss += loss.item()\n",
    "\n",
    "                preds = torch.sigmoid(logits).cpu().numpy() > 0.5\n",
    "                all_preds.extend(preds)\n",
    "                all_labels.extend(y_batch.cpu().numpy())\n",
    "\n",
    "        val_losses.append(val_loss / len(val_loader))\n",
    "        acc = accuracy_score(all_labels, all_preds)\n",
    "        f1 = f1_score(all_labels, all_preds)\n",
    "        print(f\"Epoch {epoch+1}/{num_epochs} — Train Loss: {train_losses[-1]:.4f} | Val Loss: {val_losses[-1]:.4f} | Acc: {acc:.2%} | F1: {f1:.2%}\")\n",
    "\n",
    "        if val_losses[-1] < best_val_loss:\n",
    "            best_val_loss = val_losses[-1]\n",
    "            best_model_state = model.state_dict()\n",
    "\n",
    "    # Plot training/validation loss\n",
    "    plt.plot(train_losses, label=\"Train Loss\")\n",
    "    plt.plot(val_losses, label=\"Val Loss\")\n",
    "    plt.xlabel(\"Epoch\")\n",
    "    plt.ylabel(\"Loss\")\n",
    "    plt.title(f\"{model_name} Loss Curve\")\n",
    "    plt.legend()\n",
    "    plt.grid(True)\n",
    "    plt.show()\n",
    "\n",
    "    return best_model_state"
   ]
  },
  {
   "cell_type": "code",
   "execution_count": null,
   "metadata": {
    "colab": {
     "base_uri": "https://localhost:8080/"
    },
    "executionInfo": {
     "elapsed": 1811653,
     "status": "ok",
     "timestamp": 1746761443766,
     "user": {
      "displayName": "Xenia",
      "userId": "17193084554936126829"
     },
     "user_tz": 240
    },
    "id": "8yJfFShU2XrH",
    "outputId": "4baf9701-ab79-489b-ddc8-9535102b388d"
   },
   "outputs": [],
   "source": [
    "train_dataset = MCQDataset(train_df, max_len=100)"
   ]
  },
  {
   "cell_type": "code",
   "execution_count": null,
   "metadata": {
    "colab": {
     "base_uri": "https://localhost:8080/"
    },
    "executionInfo": {
     "elapsed": 762324,
     "status": "ok",
     "timestamp": 1746762236053,
     "user": {
      "displayName": "Xenia",
      "userId": "17193084554936126829"
     },
     "user_tz": 240
    },
    "id": "nfEdL-E_2lyq",
    "outputId": "c9777eb4-8996-4fcb-b8cb-d9b3dcca49e5"
   },
   "outputs": [],
   "source": [
    "val_dataset   = MCQDataset(val_df, max_len=100)"
   ]
  },
  {
   "cell_type": "code",
   "execution_count": null,
   "metadata": {
    "colab": {
     "base_uri": "https://localhost:8080/"
    },
    "executionInfo": {
     "elapsed": 657855,
     "status": "ok",
     "timestamp": 1746762898483,
     "user": {
      "displayName": "Xenia",
      "userId": "17193084554936126829"
     },
     "user_tz": 240
    },
    "id": "EuYd1_FQl1vc",
    "outputId": "e9ea86de-77b1-4726-edb3-8862b1c7a15a"
   },
   "outputs": [],
   "source": [
    "test_dataset   = MCQDataset(test_df, max_len=100)"
   ]
  },
  {
   "cell_type": "markdown",
   "metadata": {
    "id": "JBZxnyQxm7RN"
   },
   "source": [
    "When letters and numbers are next to each other, there is an empty projection. This can be ignored."
   ]
  },
  {
   "cell_type": "code",
   "execution_count": null,
   "metadata": {
    "colab": {
     "base_uri": "https://localhost:8080/",
     "height": 819
    },
    "executionInfo": {
     "elapsed": 33568,
     "status": "ok",
     "timestamp": 1746762955448,
     "user": {
      "displayName": "Xenia",
      "userId": "17193084554936126829"
     },
     "user_tz": 240
    },
    "id": "Hm_S4Vlql6iP",
    "outputId": "5c5d007a-0e1c-426d-d1d4-dd8f554eb580"
   },
   "outputs": [],
   "source": [
    "# MCQ using Softmax\n",
    "softmax_model = SoftmaxFFN_MCQ(input_dim=300, hidden_dim=128)\n",
    "best_softmax_state = train_mcq_model(softmax_model, train_dataset, val_dataset, model_name=\"SoftmaxFFN_MCQ\")\n"
   ]
  },
  {
   "cell_type": "markdown",
   "metadata": {
    "id": "CyzmaLEOmKs4"
   },
   "source": [
    "The SoftmaxFFN\\_MCQ model initially shows promising training and validation loss curves, both decreasing and stabilizing around 0.49, suggesting early learning. However, its 80% accuracy is misleading due to class imbalance—each MCQ generates five pairs (one correct, four incorrect), meaning 80% of labels are zero. The model appears to always predict the negative class, achieving high accuracy by rejecting all options but failing to select the correct one. This is confirmed by the 0% F1 score, indicating no successful positive predictions. As a result, binary classification fails to capture what we actually want: choosing the correct answer per question. A switch to 5-class classification is necessary."
   ]
  },
  {
   "cell_type": "code",
   "execution_count": null,
   "metadata": {
    "colab": {
     "base_uri": "https://localhost:8080/",
     "height": 541
    },
    "executionInfo": {
     "elapsed": 456,
     "status": "ok",
     "timestamp": 1746763294691,
     "user": {
      "displayName": "Xenia",
      "userId": "17193084554936126829"
     },
     "user_tz": 240
    },
    "id": "XboJWp1_mUxq",
    "outputId": "6bde24c3-74cb-4955-c4ec-629b5f3f7bc3"
   },
   "outputs": [],
   "source": [
    "def evaluate_mcq_model(model, dataset, model_state):\n",
    "    device = torch.device(\"cuda\" if torch.cuda.is_available() else \"cpu\")\n",
    "    model.load_state_dict(model_state)\n",
    "    model.to(device)\n",
    "    model.eval()\n",
    "\n",
    "    loader = DataLoader(dataset, batch_size=32)\n",
    "    all_preds, all_labels = [], []\n",
    "\n",
    "    with torch.no_grad():\n",
    "        for x_batch, y_batch in loader:\n",
    "            x_batch = x_batch.to(device)\n",
    "            logits = model(x_batch)\n",
    "            preds = (torch.sigmoid(logits) > 0.5).int().cpu().numpy()\n",
    "            all_preds.extend(preds)\n",
    "            all_labels.extend(y_batch.numpy())\n",
    "\n",
    "    acc = accuracy_score(all_labels, all_preds)\n",
    "    f1 = f1_score(all_labels, all_preds)\n",
    "\n",
    "    print(f\"\\nEvaluation Results:\")\n",
    "    print(f\"Accuracy:  {acc:.2%}\")\n",
    "    print(f\"F1 Score:  {f1:.2%}\")\n",
    "\n",
    "    cm = confusion_matrix(all_labels, all_preds, labels=[0, 1])\n",
    "    disp = ConfusionMatrixDisplay(confusion_matrix=cm, display_labels=[\"Not Correct\", \"Correct\"])\n",
    "    disp.plot(cmap=\"Blues\", values_format=\"d\")\n",
    "    plt.title(\"Confusion Matrix (Binary MCQ Classifier)\")\n",
    "    plt.grid(False)\n",
    "    plt.show()\n",
    "\n",
    "\n",
    "evaluate_mcq_model(softmax_model, test_dataset, best_softmax_state)"
   ]
  },
  {
   "cell_type": "markdown",
   "metadata": {
    "id": "ZjEG2AqIn5W-"
   },
   "source": [
    "The confusion matrix confirms what we discussed above: there are no successful positive predictions, and the binary classifcation failes to choose the correct answer for each question. We proceed with moving to a 5-class classification."
   ]
  },
  {
   "cell_type": "markdown",
   "metadata": {
    "id": "8uJw4JATnpot"
   },
   "source": [
    "# MCQ 5 Class Classification Approach\n",
    "To improve accuracy, we turned the binary classification into a 5-class multiple-choice QA. For each question, it projects the Portuguese question and all five answer options into English embedding space, stacks each (question + option) pair into a sequence, and labels the correct option’s index (0–4). Each sample is stored as a tensor of shape `(5, max_len, 300)` with a single integer label.\n",
    "\n",
    "Just like the binary classification, this code includes checks to skip samples where either the question or any option fails to project into the embedding space, and prints error messages for invalid labels or projection issues to ensure only valid training examples are retained.\n",
    "\n",
    "Because the 5-class setup treats MCQ as a single classification task per question (rather than scoring individual options), the training and evaluation functions use cross-entropy loss and `argmax` over option scores instead of binary labels and sigmoid thresholds. This allows the model to directly learn to select the most likely correct option out of five.\n",
    "\n"
   ]
  },
  {
   "cell_type": "code",
   "execution_count": null,
   "metadata": {
    "id": "zh2KW8KqLJYE"
   },
   "outputs": [],
   "source": [
    "class MCQ5ClassDataset(Dataset):\n",
    "    def __init__(self, dataframe, max_len=100):\n",
    "        self.samples = []\n",
    "        self.labels = []\n",
    "        self.max_len = max_len\n",
    "        skipped = 0\n",
    "\n",
    "        for idx, row in dataframe.iterrows():\n",
    "            q_proj = project_to_en_space(row[\"question_pt_deepl\"])\n",
    "            opt_proj_list = [project_to_en_space(opt) for opt in row[\"bt_options\"]]\n",
    "\n",
    "            if q_proj.shape[0] == 0 or any(opt.shape[0] == 0 for opt in opt_proj_list):\n",
    "                skipped += 1\n",
    "                continue\n",
    "\n",
    "            try:\n",
    "                correct_idx = ord(row[\"correct_answer_text\"].strip().lower()) - ord('a')\n",
    "                if not (0 <= correct_idx < len(opt_proj_list)):\n",
    "                    raise ValueError(\"Index out of range\")\n",
    "            except Exception as e:\n",
    "                print(f\" Invalid correct_answer_text at row {idx}: {e}\")\n",
    "                skipped += 1\n",
    "                continue\n",
    "\n",
    "            stacked = []\n",
    "            for opt_vec in opt_proj_list:\n",
    "                seq = np.vstack([q_proj, opt_vec])\n",
    "                if len(seq) > self.max_len:\n",
    "                    seq = seq[:self.max_len]\n",
    "                else:\n",
    "                    seq = np.pad(seq, ((0, self.max_len - len(seq)), (0, 0)))\n",
    "                stacked.append(seq)\n",
    "\n",
    "            self.samples.append(np.stack(stacked))  # shape: (5, max_len, 300)\n",
    "            self.labels.append(correct_idx)\n",
    "\n",
    "        if skipped:\n",
    "            print(f\" Skipped {skipped} rows due to projection issues.\")\n",
    "\n",
    "    def __len__(self):\n",
    "        return len(self.samples)\n",
    "\n",
    "    def __getitem__(self, idx):\n",
    "        return (\n",
    "            torch.tensor(self.samples[idx], dtype=torch.float32),\n",
    "            torch.tensor(self.labels[idx], dtype=torch.long)\n",
    "        )\n",
    "\n",
    "\n",
    "def train_mcq_5class_model(model, train_dataset, val_dataset, model_name=\"MCQ_5Class_Model\", num_epochs=20, lr=2e-4, batch_size=32):\n",
    "    device = torch.device(\"cuda\" if torch.cuda.is_available() else \"cpu\")\n",
    "    model = model.to(device)\n",
    "    optimizer = torch.optim.Adam(model.parameters(), lr=lr)\n",
    "    criterion = nn.CrossEntropyLoss()\n",
    "\n",
    "    train_loader = DataLoader(train_dataset, batch_size=batch_size, shuffle=True)\n",
    "    val_loader = DataLoader(val_dataset, batch_size=batch_size)\n",
    "\n",
    "    train_losses, val_losses = [], []\n",
    "    best_val_loss = float(\"inf\")\n",
    "    best_model_state = None\n",
    "\n",
    "    for epoch in range(num_epochs):\n",
    "        model.train()\n",
    "        total_loss = 0\n",
    "        for x_batch, y_batch in train_loader:\n",
    "            x_batch, y_batch = x_batch.to(device), y_batch.to(device)\n",
    "            optimizer.zero_grad()\n",
    "            logits = model(x_batch)\n",
    "            loss = criterion(logits, y_batch)\n",
    "            loss.backward()\n",
    "            optimizer.step()\n",
    "            total_loss += loss.item()\n",
    "\n",
    "        train_losses.append(total_loss / len(train_loader))\n",
    "\n",
    "        # Validation loop\n",
    "        model.eval()\n",
    "        val_loss = 0\n",
    "        all_preds, all_labels = [], []\n",
    "        with torch.no_grad():\n",
    "            for x_batch, y_batch in val_loader:\n",
    "                x_batch, y_batch = x_batch.to(device), y_batch.to(device)\n",
    "                logits = model(x_batch)\n",
    "                loss = criterion(logits, y_batch)\n",
    "                val_loss += loss.item()\n",
    "\n",
    "                preds = torch.argmax(logits, dim=1).cpu().numpy()\n",
    "                all_preds.extend(preds)\n",
    "                all_labels.extend(y_batch.cpu().numpy())\n",
    "\n",
    "        val_losses.append(val_loss / len(val_loader))\n",
    "        acc = accuracy_score(all_labels, all_preds)\n",
    "        f1 = f1_score(all_labels, all_preds, average=\"macro\")\n",
    "        print(f\"Epoch {epoch+1}/{num_epochs} — Train Loss: {train_losses[-1]:.4f} | Val Loss: {val_losses[-1]:.4f} | Acc: {acc:.2%} | F1: {f1:.2%}\")\n",
    "\n",
    "        if val_losses[-1] < best_val_loss:\n",
    "            best_val_loss = val_losses[-1]\n",
    "            best_model_state = model.state_dict()\n",
    "\n",
    "    # Plot training/validation loss\n",
    "    plt.plot(train_losses, label=\"Train Loss\")\n",
    "    plt.plot(val_losses, label=\"Val Loss\")\n",
    "    plt.xlabel(\"Epoch\")\n",
    "    plt.ylabel(\"Loss\")\n",
    "    plt.title(f\"{model_name} Loss Curve\")\n",
    "    plt.legend()\n",
    "    plt.grid(True)\n",
    "    plt.show()\n",
    "\n",
    "    return best_model_state\n"
   ]
  },
  {
   "cell_type": "code",
   "execution_count": null,
   "metadata": {
    "colab": {
     "base_uri": "https://localhost:8080/"
    },
    "executionInfo": {
     "elapsed": 8697139,
     "status": "ok",
     "timestamp": 1746810624829,
     "user": {
      "displayName": "Xenia",
      "userId": "17193084554936126829"
     },
     "user_tz": 240
    },
    "id": "ycNXVdkUoFVc",
    "outputId": "7d324946-3e8d-428e-ab27-9fa5413b4a1c"
   },
   "outputs": [],
   "source": [
    "train_dataset_5c =  MCQ5ClassDataset(train_df, max_len=100)\n",
    "val_dataset_5c   = MCQ5ClassDataset(val_df, max_len=100)\n",
    "test_dataset_5c   = MCQ5ClassDataset(test_df, max_len=100)"
   ]
  },
  {
   "cell_type": "markdown",
   "metadata": {
    "id": "WkgudGkJo7Fo"
   },
   "source": [
    "We decide to implement both a Softmax FFN and a BiLSTM classifier to compare their performances.\n",
    "\n",
    "### Softmax FFN MCQ Classifier (5-Class)\n",
    "\n",
    "For the 5-class MCQ task, we implemented a feedforward neural network that computes a score for each of the five answer options, given a projected Portuguese question. Each option is processed independently by averaging its token embeddings with the question and passing the result through two dense layers. The model does not consider token order but captures overall semantic similarity.\n",
    "\n",
    "* **Embedding dimension:** 300 (from fastText projections)\n",
    "* **Hidden size:** 128\n",
    "* **Layers:** Two linear layers with ReLU activation and dropout\n",
    "* **Dropout:** 0.3 after the first layer\n",
    "* **Loss function:** Cross-entropy over 5 classes (one-hot correct answer)\n",
    "* **Optimizer:** Adam, learning rate 2e-4\n",
    "* **Input shape:** \\[batch\\_size, 5, sequence\\_length, 300]\n",
    "* **Output:** \\[batch\\_size, 5] logits (one per option, softmax applied during training)\n",
    "\n",
    "---\n",
    "\n",
    "### BiLSTM MCQ Classifier (5-Class)\n",
    "\n",
    "To better capture sequential patterns in projected question–option pairs, we implemented a BiLSTM-based classifier for the 5-class setup. Unlike the FNN, this model considers the order of tokens, encoding each (question + option) sequence using a bidirectional LSTM. A mean pooling is applied to the LSTM outputs, and each pooled vector is scored to select the correct option.\n",
    "\n",
    "* **Embedding dimension:** 300 (from fastText projections)\n",
    "* **Hidden size:** 128\n",
    "* **Layers:** One BiLSTM layer followed by a linear classifier\n",
    "* **Loss function:** Cross-entropy over 5 options\n",
    "* **Optimizer:** Adam, learning rate 2e-4\n",
    "* **Input shape:** \\[batch\\_size, 5, sequence\\_length, 300]\n",
    "* **Output:** \\[batch\\_size, 5] logits (one per option, softmax during training)\n",
    "\n",
    "The BiLSTM model is introduced here (unlike in binary classification) to help the model differentiate between closely competing options using word sequence information.\n"
   ]
  },
  {
   "cell_type": "code",
   "execution_count": null,
   "metadata": {
    "id": "CvkFfnXZo54l"
   },
   "outputs": [],
   "source": [
    "# 5-Class MCQ Models (SoftmaxFFN and BiLSTM)\n",
    "class SoftmaxFFN_MCQ5(nn.Module):\n",
    "    def __init__(self, input_dim=300, hidden_dim=128):\n",
    "        super().__init__()\n",
    "        self.fc1 = nn.Linear(input_dim, hidden_dim)\n",
    "        self.dropout = nn.Dropout(0.3)\n",
    "        self.fc2 = nn.Linear(hidden_dim, 1)\n",
    "\n",
    "    def forward(self, x):  # x: (batch_size, 5, seq_len, input_dim)\n",
    "        scores = []\n",
    "        for i in range(5):\n",
    "            opt_vec = x[:, i, :, :]  # (batch, seq_len, input_dim)\n",
    "            mean_vec = torch.mean(opt_vec, dim=1)\n",
    "            h = F.relu(self.fc1(mean_vec))\n",
    "            h = self.dropout(h)\n",
    "            score = self.fc2(h).squeeze(-1)\n",
    "            scores.append(score)\n",
    "        return torch.stack(scores, dim=1)  # (batch, 5)\n",
    "\n",
    "class BiLSTM_MCQ5(nn.Module):\n",
    "    def __init__(self, input_dim=300, hidden_dim=128):\n",
    "        super().__init__()\n",
    "        self.lstm = nn.LSTM(input_dim, hidden_dim, batch_first=True, bidirectional=True)\n",
    "        self.fc = nn.Linear(hidden_dim * 2, 1)\n",
    "\n",
    "    def forward(self, x):  # x: (batch_size, 5, seq_len, input_dim)\n",
    "        scores = []\n",
    "        for i in range(5):\n",
    "            opt_vec = x[:, i, :, :]  # (batch, seq_len, input_dim)\n",
    "            lstm_out, _ = self.lstm(opt_vec)\n",
    "            pooled = torch.mean(lstm_out, dim=1)\n",
    "            score = self.fc(pooled).squeeze(-1)\n",
    "            scores.append(score)\n",
    "        return torch.stack(scores, dim=1)  # (batch, 5)"
   ]
  },
  {
   "cell_type": "code",
   "execution_count": null,
   "metadata": {
    "colab": {
     "base_uri": "https://localhost:8080/",
     "height": 819
    },
    "executionInfo": {
     "elapsed": 54386,
     "status": "ok",
     "timestamp": 1746810910361,
     "user": {
      "displayName": "Xenia",
      "userId": "17193084554936126829"
     },
     "user_tz": 240
    },
    "id": "bXVn24t2pBgx",
    "outputId": "2dc4793a-02f2-4e46-82e7-3944f8b22f42"
   },
   "outputs": [],
   "source": [
    "# Train Softmax FFN Model\n",
    "softmax_model_5c = SoftmaxFFN_MCQ5(input_dim=300, hidden_dim=128)\n",
    "best_softmax_state_5c = train_mcq_5class_model(\n",
    "    softmax_model_5c, train_dataset_5c, val_dataset_5c, model_name=\"SoftmaxFFN_MCQ5\"\n",
    ")\n"
   ]
  },
  {
   "cell_type": "markdown",
   "metadata": {
    "id": "twnszqiHEHL8"
   },
   "source": [
    "The model begins with a loss near 1.61, reflecting a value for random guessing in a 5-class task. This only declines to 1.58—indicating minimal learning. As accuracy stays around around 33% this suggests limited improvement from weak inputs, underfitting, or noisy projections.\n"
   ]
  },
  {
   "cell_type": "code",
   "execution_count": null,
   "metadata": {
    "colab": {
     "base_uri": "https://localhost:8080/",
     "height": 819
    },
    "executionInfo": {
     "elapsed": 1659498,
     "status": "ok",
     "timestamp": 1746812673702,
     "user": {
      "displayName": "Xenia",
      "userId": "17193084554936126829"
     },
     "user_tz": 240
    },
    "id": "y56TQczrqIJ_",
    "outputId": "ae318c7a-84b6-4495-a470-10a7a83052f9"
   },
   "outputs": [],
   "source": [
    "# Train BiLSTM Model\n",
    "bilstm_model_5c = BiLSTM_MCQ5(input_dim=300, hidden_dim=128)\n",
    "best_bilstm_state_5c = train_mcq_5class_model(\n",
    "    bilstm_model_5c, train_dataset_5c, val_dataset_5c, model_name=\"BiLSTM_MCQ5\"\n",
    ")"
   ]
  },
  {
   "cell_type": "markdown",
   "metadata": {
    "id": "pVXnOhZLqpJe"
   },
   "source": [
    "For the BiLSTM 5 class classification, we can see that the validation loss settles between roughly 1.52 to 1.54, first reaching that point after just 3 epochs. These results are not much different from the FFN loss and accuracy. We still start at random guessing and eventually reach an accuracy in the low 30% range. This confirms that our models are learning slightly past the random guessing benchmark, but they are still predicting incorrectly on over two-thirds of the questions. There is still significant room for improvement."
   ]
  },
  {
   "cell_type": "code",
   "execution_count": null,
   "metadata": {
    "id": "WvmWEGWtpxbE"
   },
   "outputs": [],
   "source": [
    "def evaluate_mcq_5class_model(model, dataset, model_state):\n",
    "    device = torch.device(\"cuda\" if torch.cuda.is_available() else \"cpu\")\n",
    "    model.load_state_dict(model_state)\n",
    "    model.to(device)\n",
    "    model.eval()\n",
    "\n",
    "    loader = DataLoader(dataset, batch_size=32)\n",
    "    all_preds, all_labels = [], []\n",
    "\n",
    "    with torch.no_grad():\n",
    "        for x_batch, y_batch in loader:\n",
    "            x_batch = x_batch.to(device)\n",
    "            logits = model(x_batch)\n",
    "            preds = torch.argmax(logits, dim=1).cpu().numpy()\n",
    "            all_preds.extend(preds)\n",
    "            all_labels.extend(y_batch.numpy())\n",
    "\n",
    "    acc = accuracy_score(all_labels, all_preds)\n",
    "    f1 = f1_score(all_labels, all_preds, average=\"macro\")\n",
    "\n",
    "    print(f\"Test Accuracy: {acc:.2%}\")\n",
    "    print(f\"Test F1 Score: {f1:.2%}\")\n",
    "\n",
    "    # Confusion matrix\n",
    "    cm = confusion_matrix(all_labels, all_preds, labels=[0, 1, 2, 3, 4])\n",
    "    disp = ConfusionMatrixDisplay(confusion_matrix=cm, display_labels=[\"A\", \"B\", \"C\", \"D\", \"E\"])\n",
    "    disp.plot(cmap=\"Blues\", values_format=\"d\")\n",
    "    plt.title(\"Confusion Matrix (5-Class MCQ)\")\n",
    "    plt.show()\n"
   ]
  },
  {
   "cell_type": "markdown",
   "metadata": {
    "id": "z17YdZRZqd4M"
   },
   "source": [
    "## 5-Class Softmax FFN evaluation"
   ]
  },
  {
   "cell_type": "code",
   "execution_count": null,
   "metadata": {
    "colab": {
     "base_uri": "https://localhost:8080/",
     "height": 507
    },
    "executionInfo": {
     "elapsed": 496,
     "status": "ok",
     "timestamp": 1746813042602,
     "user": {
      "displayName": "Xenia",
      "userId": "17193084554936126829"
     },
     "user_tz": 240
    },
    "id": "cR1UFoKxqCiM",
    "outputId": "4f967131-143c-49c0-e192-3371759eb496"
   },
   "outputs": [],
   "source": [
    "evaluate_mcq_5class_model(softmax_model_5c, test_dataset_5c, best_softmax_state_5c)"
   ]
  },
  {
   "cell_type": "markdown",
   "metadata": {
    "id": "gBP0y3-brMUZ"
   },
   "source": [
    "The confusion matrix for the BiLSTM 5 class classification tells a similar story to the Softmax FFN. Interestingly, we once again see that answer choices 'C' and 'D' have the highest counts of correct classifications. This is worth taking a note of, and a sign that randomly permuting the answer choices could be a beneficial step in the data pre-processing stage. These two answer choices actually seem to compensate for the accuracy of the other answer choices, but not significantly."
   ]
  },
  {
   "cell_type": "code",
   "execution_count": null,
   "metadata": {
    "colab": {
     "base_uri": "https://localhost:8080/"
    },
    "executionInfo": {
     "elapsed": 36832,
     "status": "ok",
     "timestamp": 1746813378667,
     "user": {
      "displayName": "Xenia",
      "userId": "17193084554936126829"
     },
     "user_tz": 240
    },
    "id": "nAOE4RXUqNYr",
    "outputId": "9e18104a-b4d3-4499-8e80-9366e7505098"
   },
   "outputs": [],
   "source": [
    "device = torch.device(\"cuda\" if torch.cuda.is_available() else \"cpu\")\n",
    "\n",
    "# Load trained weights and set to eval\n",
    "softmax_model_5c.load_state_dict(best_softmax_state_5c)\n",
    "softmax_model_5c.to(device)\n",
    "softmax_model_5c.eval()\n",
    "\n",
    "print(\"Softmax FFN 5-Class — Sample Predictions:\\n\")\n",
    "for idx in sample(range(len(val_df)), 5):\n",
    "    row = val_df.iloc[idx]\n",
    "\n",
    "    # Project question and options\n",
    "    q_vec = project_to_en_space(row[\"question_pt_deepl\"])\n",
    "    opt_vecs = [project_to_en_space(opt) for opt in row[\"bt_options\"]]\n",
    "\n",
    "    if q_vec.shape[0] == 0 or any(opt.shape[0] == 0 for opt in opt_vecs):\n",
    "        print(\"Skipping due to empty projection.\\n\")\n",
    "        continue\n",
    "\n",
    "    max_len = 100\n",
    "    pairs = []\n",
    "    for opt_vec in opt_vecs:\n",
    "        pair = np.vstack([q_vec, opt_vec])\n",
    "        if len(pair) > max_len:\n",
    "            pair = pair[:max_len]\n",
    "        else:\n",
    "            pair = np.pad(pair, ((0, max_len - len(pair)), (0, 0)))\n",
    "        pairs.append(pair)\n",
    "\n",
    "    # Fix: Add batch dimension\n",
    "    x_batch = torch.tensor(np.stack(pairs), dtype=torch.float32).unsqueeze(0).to(device)  # shape: (1, 5, seq_len, 300)\n",
    "\n",
    "    with torch.no_grad():\n",
    "        logits = softmax_model_5c(x_batch)\n",
    "        probs = torch.softmax(logits, dim=1).cpu().numpy()[0]\n",
    "        pred_idx = int(np.argmax(probs))\n",
    "\n",
    "    correct_idx = ord(row[\"correct_answer_text\"].strip().lower()) - ord(\"a\")\n",
    "    pred_letter = chr(ord(\"a\") + pred_idx)\n",
    "    correct_letter = chr(ord(\"a\") + correct_idx)\n",
    "\n",
    "    print(f\"Question (PT): {row['question_pt_deepl']}\")\n",
    "    print(f\"Question (EN): {row['question']}\\n\")\n",
    "\n",
    "    for i, (pt_opt, en_opt) in enumerate(zip(row[\"bt_options\"], eval(row[\"options\"]))):\n",
    "        if i == correct_idx and i == pred_idx:\n",
    "            marker = \"[CORRECT | PREDICTED]\"\n",
    "        elif i == correct_idx:\n",
    "            marker = \"[CORRECT]\"\n",
    "        elif i == pred_idx:\n",
    "            marker = \"[PREDICTED]\"\n",
    "        else:\n",
    "            marker = \"\"\n",
    "        print(f\"{marker:<20} {chr(ord('a') + i)}) PT: {pt_opt}\")\n",
    "        print(f\"{'':<20}     EN: {en_opt}\")\n",
    "\n",
    "    print(f\"\\nPredicted: {pred_letter} | Correct: {correct_letter}\")\n",
    "    print(\"-\" * 80)\n",
    "\n"
   ]
  },
  {
   "cell_type": "markdown",
   "metadata": {
    "id": "fDBdw0fJqse2"
   },
   "source": [
    "## 5-Class BiLTSM Classification"
   ]
  },
  {
   "cell_type": "code",
   "execution_count": null,
   "metadata": {
    "colab": {
     "base_uri": "https://localhost:8080/",
     "height": 507
    },
    "executionInfo": {
     "elapsed": 3476,
     "status": "ok",
     "timestamp": 1746813165961,
     "user": {
      "displayName": "Xenia",
      "userId": "17193084554936126829"
     },
     "user_tz": 240
    },
    "id": "z3R2SIj4qquf",
    "outputId": "b4d921ea-8e98-4348-f562-e4298de0b1ef"
   },
   "outputs": [],
   "source": [
    "evaluate_mcq_5class_model(bilstm_model_5c, test_dataset_5c, best_bilstm_state_5c)"
   ]
  },
  {
   "cell_type": "markdown",
   "metadata": {
    "id": "JGux8XBmrVTn"
   },
   "source": [
    "The confusion matrix for the BiLSTM 5 class classification tells a similar story to the Softmax FFN. Interestingly, we once again see that answer choices 'C' and 'D' have the highest counts of correct classifications. This is worth taking a note of, and a sign that randomly permuting the answer choices could be a beneficial step in the data pre-processing stage. These two answer choices actually seem to compensate for the accuracy of the other answer choices, but not significantly."
   ]
  },
  {
   "cell_type": "code",
   "execution_count": null,
   "metadata": {
    "colab": {
     "base_uri": "https://localhost:8080/"
    },
    "executionInfo": {
     "elapsed": 27136,
     "status": "ok",
     "timestamp": 1746813632193,
     "user": {
      "displayName": "Xenia",
      "userId": "17193084554936126829"
     },
     "user_tz": 240
    },
    "id": "PF1fTEG_q0DZ",
    "outputId": "3cfb56a0-c8b8-45c9-a664-a00391897327"
   },
   "outputs": [],
   "source": [
    "device = torch.device(\"cuda\" if torch.cuda.is_available() else \"cpu\")\n",
    "\n",
    "# Load best model weights and prepare model\n",
    "bilstm_model_5c.load_state_dict(best_bilstm_state_5c)\n",
    "bilstm_model_5c.to(device)\n",
    "bilstm_model_5c.eval()\n",
    "\n",
    "print(\"BiLSTM 5-Class — Sample Predictions:\\n\")\n",
    "for idx in sample(range(len(val_df)), 5):\n",
    "    row = val_df.iloc[idx]\n",
    "\n",
    "    # Project question and options\n",
    "    q_vec = project_to_en_space(row[\"question_pt_deepl\"])\n",
    "    opt_vecs = [project_to_en_space(opt) for opt in row[\"bt_options\"]]\n",
    "\n",
    "    if q_vec.shape[0] == 0 or any(opt.shape[0] == 0 for opt in opt_vecs):\n",
    "        print(\"Skipping due to empty projection.\\n\")\n",
    "        continue\n",
    "\n",
    "    # Stack [Q;Opt] for each option\n",
    "    max_len = 100\n",
    "    pairs = []\n",
    "    for opt_vec in opt_vecs:\n",
    "        pair = np.vstack([q_vec, opt_vec])\n",
    "        if len(pair) > max_len:\n",
    "            pair = pair[:max_len]\n",
    "        else:\n",
    "            pair = np.pad(pair, ((0, max_len - len(pair)), (0, 0)))\n",
    "        pairs.append(pair)\n",
    "\n",
    "    # Add batch dimension: (1, 5, seq_len, 300)\n",
    "    x_batch = torch.tensor(np.stack(pairs), dtype=torch.float32).unsqueeze(0).to(device)\n",
    "\n",
    "    with torch.no_grad():\n",
    "        logits = bilstm_model_5c(x_batch)\n",
    "        probs = torch.softmax(logits, dim=1).cpu().numpy()[0]\n",
    "        pred_idx = int(np.argmax(probs))\n",
    "\n",
    "    correct_idx = ord(row[\"correct_answer_text\"].strip().lower()) - ord(\"a\")\n",
    "    pred_letter = chr(ord(\"a\") + pred_idx)\n",
    "    correct_letter = chr(ord(\"a\") + correct_idx)\n",
    "\n",
    "    print(f\"Question (PT): {row['question_pt_deepl']}\")\n",
    "    print(f\"Question (EN): {row['question']}\\n\")\n",
    "\n",
    "    for i, (pt_opt, en_opt) in enumerate(zip(row[\"bt_options\"], eval(row[\"options\"]))):\n",
    "        if i == correct_idx and i == pred_idx:\n",
    "            marker = \"[CORRECT | PREDICTED]\"\n",
    "        elif i == correct_idx:\n",
    "            marker = \"[CORRECT]\"\n",
    "        elif i == pred_idx:\n",
    "            marker = \"[PREDICTED]\"\n",
    "        else:\n",
    "            marker = \"\"\n",
    "        print(f\"{marker:<20} {chr(ord('a') + i)}) PT: {pt_opt}\")\n",
    "        print(f\"{'':<20}     EN: {en_opt}\")\n",
    "\n",
    "    print(f\"\\nPredicted: {pred_letter} | Correct: {correct_letter}\")\n",
    "    print(\"-\" * 80)\n",
    "\n"
   ]
  },
  {
   "cell_type": "markdown",
   "metadata": {
    "id": "Lwp5n0oyrYIg"
   },
   "source": [
    "<a id=\"conclusion\"></a>\n",
    "# 9. Conclusion"
   ]
  },
  {
   "cell_type": "markdown",
   "metadata": {
    "id": "O0nhK1h0riBe"
   },
   "source": [
    "The MCQ and QA models are difficult to compare directly since they are used for different tasks, however we can see that in both cases, they offered an improvement on each task over the baseline model.\n",
    "\n",
    "On the QA dataset, the baseline model had an exact match of 0% and a ROUGE-L score of 0.0854. While the Extractive model also had an exact match of 0%, it offered an improvement on the ROUGE-L score with a score of 3.48%. Generative QA model yielded better results than the Extractive QA model, with an exact match of 1.85% and a ROUGE-L score of 31.98%. It therefore seems that the Extractive QA model was a lot better suited for the task and dataset. Although the exact match stayed low (which is expected given the variable nature of language), the model was able to capture notions of semantic correctness in a multilingual setting.\n",
    "\n",
    "The MCQA baseline model performed binary classification with an accuracy of 0.8. Despite the seemingly high accuracy, we find that this is because the model is predicting all predictions to be 0, which is true 80% of the time. We find similar results with the Binary FFN Classifier which also has an accuracy of 80% and yielded and F1 score of 0%. Following this, we moved to a 5-class classification which evaluates  whether the model correctly selects the single correct answer out of five choices. We trained both a Softmax FFN and a BiLSTM. The Softmax FFN achieved an accuracy of 30.97% and an F1 score of 30.53%. The BiLSTM had an accuracy had an accuracy of 31.86% and an F1 score of 31.31%. Both models showed an improvement from the binary classifiers - changing the task to multi-class meant that they were no longer simply predicting the same class. This was also clear through an improvement in the F1 score. It appears that the BiLSTM had a slightly better performance than the Softmax FFN.\n",
    "\n",
    "While the models offered an improvement over the baseline model, there could be further improvements made by addressing class imbalance and sample size. Despite our attempts at data augmentation using back-translation, the limited model performance made it is clear that this was not sufficient to supplement a lack of data."
   ]
  },
  {
   "cell_type": "markdown",
   "metadata": {
    "id": "qygQe4I-rnCZ"
   },
   "source": [
    "## Future Directions\n",
    "\n",
    "There are several future directions we can consider. The first is a more granular modeling approach, based on the class imbalances we saw specifically with question type and difficulty. Modeling separately or including this information directly may help us identify model strengths and weaknesses, and allow us to fine-tune in a more targeted manner.\n",
    "\n",
    "Another future direction would be to expand to true multilingual settings (3 or more languages). This approach could lead to a more well-rounded and generalizable model, but would require more elaborate data processing and tokenization methods.\n",
    "\n",
    "We acknowledge that the scope of this project is fairly narrow, as seen in our EDA, centered around topics such as Brazilian coastlines, oil, climate change, etc. To increase generalizability to other themes, we can start expanding the scope by slowly feeding our models a mix of relevant, tangentially relevant, and completely irrelevant content (in the form of context, questions, or options). The goal would be for our models to start gaining more inter-domain knowledge while also being able to discriminate against \"distractors\".\n",
    "\n",
    "A technique that was central to our project was back-translations. One future approach is to incorporate contrastive learning with these translated pairs. This could help with the projections and increase the model performances.\n",
    "\n",
    "Lastly, the original Pira study compared many models across various approaches. While we compared a couple, it could be worth exploring more models, especially with our back-translation approach. This could help us assess how models benefit or suffer with back-translations, and the effectiveness of the technique at large."
   ]
  }
 ],
 "metadata": {
  "accelerator": "GPU",
  "colab": {
   "gpuType": "T4",
   "provenance": []
  },
  "kernelspec": {
   "display_name": "Python 3",
   "name": "python3"
  },
  "language_info": {
   "name": "python"
  }
 },
 "nbformat": 4,
 "nbformat_minor": 0
}
